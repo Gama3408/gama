{
 "cells": [
  {
   "cell_type": "markdown",
   "metadata": {},
   "source": [
    "\n",
    "# Project: Investigate a Dataset (FBI Gun Data)\n",
    "\n",
    "## Table of Contents\n",
    "<ul>\n",
    "<li><a href=\"#intro\">Introduction</a></li>\n",
    "<li><a href=\"#wrangling\">Data Wrangling</a></li>\n",
    "<li><a href=\"#eda\">Exploratory Data Analysis</a></li>\n",
    "<li><a href=\"#conclusions\">Conclusions</a></li>\n",
    "</ul>"
   ]
  },
  {
   "cell_type": "markdown",
   "metadata": {},
   "source": [
    "<a id='intro'></a>\n",
    "## Introduction\n",
    "\n",
    "*The data comes from the FBI's National Instant Criminal Background Check System. The NICS is used by to determine whether a prospective buyer is eligible to buy firearms or explosives. Gun shops call into this system to ensure that each customer\n",
    "does not have a criminal record or isn’t otherwise ineligible to make a purchase. The data has been supplemented with state level data from census.*\n",
    "\n",
    "**Questions:** \n",
    "\n",
    " * What is the trend of total guns registeration over times?\n",
    " * What is the overall trend of purchases Gun Over the Times? \n",
    " * Which year has the highest Number of registred Gun?\n",
    " * Which Months has the highest Number of registred Gun?\n",
    " * Which State has the highest Number of registred Gun?\n",
    " * Overall purchased types of gun Trend Over the Times\n",
    " * Most purchased Gun Type in the Year between 1997 to 2010\n",
    " * Most Purchased Gun Type in the Year between 2011 to 2017\n",
    " * What is the Rate of Hand Gun in each state?\n",
    " * What is the Rate of Long Gun Gun in each state?\n",
    " * Which census data is most associated with high gun per capita"
   ]
  },
  {
   "cell_type": "code",
   "execution_count": 107,
   "metadata": {},
   "outputs": [],
   "source": [
    "# Load all the require libraries\n",
    "import pandas as pd\n",
    "import numpy as np\n",
    "import seaborn as sns\n",
    "import matplotlib.pyplot as plt\n",
    "%matplotlib inline\n",
    "import datetime"
   ]
  },
  {
   "cell_type": "code",
   "execution_count": 108,
   "metadata": {},
   "outputs": [
    {
     "data": {
      "text/html": [
       "<div>\n",
       "<style scoped>\n",
       "    .dataframe tbody tr th:only-of-type {\n",
       "        vertical-align: middle;\n",
       "    }\n",
       "\n",
       "    .dataframe tbody tr th {\n",
       "        vertical-align: top;\n",
       "    }\n",
       "\n",
       "    .dataframe thead th {\n",
       "        text-align: right;\n",
       "    }\n",
       "</style>\n",
       "<table border=\"1\" class=\"dataframe\">\n",
       "  <thead>\n",
       "    <tr style=\"text-align: right;\">\n",
       "      <th></th>\n",
       "      <th>Fact</th>\n",
       "      <th>Fact Note</th>\n",
       "      <th>Alabama</th>\n",
       "      <th>Alaska</th>\n",
       "      <th>Arizona</th>\n",
       "      <th>Arkansas</th>\n",
       "      <th>California</th>\n",
       "      <th>Colorado</th>\n",
       "      <th>Connecticut</th>\n",
       "      <th>Delaware</th>\n",
       "      <th>...</th>\n",
       "      <th>South Dakota</th>\n",
       "      <th>Tennessee</th>\n",
       "      <th>Texas</th>\n",
       "      <th>Utah</th>\n",
       "      <th>Vermont</th>\n",
       "      <th>Virginia</th>\n",
       "      <th>Washington</th>\n",
       "      <th>West Virginia</th>\n",
       "      <th>Wisconsin</th>\n",
       "      <th>Wyoming</th>\n",
       "    </tr>\n",
       "  </thead>\n",
       "  <tbody>\n",
       "    <tr>\n",
       "      <th>0</th>\n",
       "      <td>Population estimates, July 1, 2016,  (V2016)</td>\n",
       "      <td>NaN</td>\n",
       "      <td>4,863,300</td>\n",
       "      <td>741,894</td>\n",
       "      <td>6,931,071</td>\n",
       "      <td>2,988,248</td>\n",
       "      <td>39,250,017</td>\n",
       "      <td>5,540,545</td>\n",
       "      <td>3,576,452</td>\n",
       "      <td>952,065</td>\n",
       "      <td>...</td>\n",
       "      <td>865454</td>\n",
       "      <td>6651194</td>\n",
       "      <td>27,862,596</td>\n",
       "      <td>3,051,217</td>\n",
       "      <td>624,594</td>\n",
       "      <td>8,411,808</td>\n",
       "      <td>7,288,000</td>\n",
       "      <td>1,831,102</td>\n",
       "      <td>5,778,708</td>\n",
       "      <td>585,501</td>\n",
       "    </tr>\n",
       "    <tr>\n",
       "      <th>1</th>\n",
       "      <td>Population estimates base, April 1, 2010,  (V2...</td>\n",
       "      <td>NaN</td>\n",
       "      <td>4,780,131</td>\n",
       "      <td>710,249</td>\n",
       "      <td>6,392,301</td>\n",
       "      <td>2,916,025</td>\n",
       "      <td>37,254,522</td>\n",
       "      <td>5,029,324</td>\n",
       "      <td>3,574,114</td>\n",
       "      <td>897,936</td>\n",
       "      <td>...</td>\n",
       "      <td>814195</td>\n",
       "      <td>6346298</td>\n",
       "      <td>25,146,100</td>\n",
       "      <td>2,763,888</td>\n",
       "      <td>625,741</td>\n",
       "      <td>8,001,041</td>\n",
       "      <td>6,724,545</td>\n",
       "      <td>1,853,011</td>\n",
       "      <td>5,687,289</td>\n",
       "      <td>563,767</td>\n",
       "    </tr>\n",
       "    <tr>\n",
       "      <th>2</th>\n",
       "      <td>Population, percent change - April 1, 2010 (es...</td>\n",
       "      <td>NaN</td>\n",
       "      <td>1.70%</td>\n",
       "      <td>4.50%</td>\n",
       "      <td>8.40%</td>\n",
       "      <td>2.50%</td>\n",
       "      <td>5.40%</td>\n",
       "      <td>10.20%</td>\n",
       "      <td>0.10%</td>\n",
       "      <td>6.00%</td>\n",
       "      <td>...</td>\n",
       "      <td>0.063</td>\n",
       "      <td>0.048</td>\n",
       "      <td>10.80%</td>\n",
       "      <td>10.40%</td>\n",
       "      <td>-0.20%</td>\n",
       "      <td>5.10%</td>\n",
       "      <td>8.40%</td>\n",
       "      <td>-1.20%</td>\n",
       "      <td>1.60%</td>\n",
       "      <td>3.90%</td>\n",
       "    </tr>\n",
       "    <tr>\n",
       "      <th>3</th>\n",
       "      <td>Population, Census, April 1, 2010</td>\n",
       "      <td>NaN</td>\n",
       "      <td>4,779,736</td>\n",
       "      <td>710,231</td>\n",
       "      <td>6,392,017</td>\n",
       "      <td>2,915,918</td>\n",
       "      <td>37,253,956</td>\n",
       "      <td>5,029,196</td>\n",
       "      <td>3,574,097</td>\n",
       "      <td>897,934</td>\n",
       "      <td>...</td>\n",
       "      <td>814180</td>\n",
       "      <td>6346105</td>\n",
       "      <td>25,145,561</td>\n",
       "      <td>2,763,885</td>\n",
       "      <td>625,741</td>\n",
       "      <td>8,001,024</td>\n",
       "      <td>6,724,540</td>\n",
       "      <td>1,852,994</td>\n",
       "      <td>5,686,986</td>\n",
       "      <td>563,626</td>\n",
       "    </tr>\n",
       "    <tr>\n",
       "      <th>4</th>\n",
       "      <td>Persons under 5 years, percent, July 1, 2016, ...</td>\n",
       "      <td>NaN</td>\n",
       "      <td>6.00%</td>\n",
       "      <td>7.30%</td>\n",
       "      <td>6.30%</td>\n",
       "      <td>6.40%</td>\n",
       "      <td>6.30%</td>\n",
       "      <td>6.10%</td>\n",
       "      <td>5.20%</td>\n",
       "      <td>5.80%</td>\n",
       "      <td>...</td>\n",
       "      <td>0.071</td>\n",
       "      <td>0.061</td>\n",
       "      <td>7.20%</td>\n",
       "      <td>8.30%</td>\n",
       "      <td>4.90%</td>\n",
       "      <td>6.10%</td>\n",
       "      <td>6.20%</td>\n",
       "      <td>5.50%</td>\n",
       "      <td>5.80%</td>\n",
       "      <td>6.50%</td>\n",
       "    </tr>\n",
       "  </tbody>\n",
       "</table>\n",
       "<p>5 rows × 52 columns</p>\n",
       "</div>"
      ],
      "text/plain": [
       "                                                Fact Fact Note    Alabama  \\\n",
       "0       Population estimates, July 1, 2016,  (V2016)       NaN  4,863,300   \n",
       "1  Population estimates base, April 1, 2010,  (V2...       NaN  4,780,131   \n",
       "2  Population, percent change - April 1, 2010 (es...       NaN      1.70%   \n",
       "3                  Population, Census, April 1, 2010       NaN  4,779,736   \n",
       "4  Persons under 5 years, percent, July 1, 2016, ...       NaN      6.00%   \n",
       "\n",
       "    Alaska    Arizona   Arkansas  California   Colorado Connecticut Delaware  \\\n",
       "0  741,894  6,931,071  2,988,248  39,250,017  5,540,545   3,576,452  952,065   \n",
       "1  710,249  6,392,301  2,916,025  37,254,522  5,029,324   3,574,114  897,936   \n",
       "2    4.50%      8.40%      2.50%       5.40%     10.20%       0.10%    6.00%   \n",
       "3  710,231  6,392,017  2,915,918  37,253,956  5,029,196   3,574,097  897,934   \n",
       "4    7.30%      6.30%      6.40%       6.30%      6.10%       5.20%    5.80%   \n",
       "\n",
       "    ...    South Dakota Tennessee       Texas       Utah  Vermont   Virginia  \\\n",
       "0   ...          865454   6651194  27,862,596  3,051,217  624,594  8,411,808   \n",
       "1   ...          814195   6346298  25,146,100  2,763,888  625,741  8,001,041   \n",
       "2   ...           0.063     0.048      10.80%     10.40%   -0.20%      5.10%   \n",
       "3   ...          814180   6346105  25,145,561  2,763,885  625,741  8,001,024   \n",
       "4   ...           0.071     0.061       7.20%      8.30%    4.90%      6.10%   \n",
       "\n",
       "  Washington West Virginia  Wisconsin  Wyoming  \n",
       "0  7,288,000     1,831,102  5,778,708  585,501  \n",
       "1  6,724,545     1,853,011  5,687,289  563,767  \n",
       "2      8.40%        -1.20%      1.60%    3.90%  \n",
       "3  6,724,540     1,852,994  5,686,986  563,626  \n",
       "4      6.20%         5.50%      5.80%    6.50%  \n",
       "\n",
       "[5 rows x 52 columns]"
      ]
     },
     "execution_count": 108,
     "metadata": {},
     "output_type": "execute_result"
    }
   ],
   "source": [
    "# load the dataset\n",
    "census_df= pd.read_csv(\"U.S. Census Data.csv\")\n",
    "gun_df = pd.read_csv(\"gun_data_copy.csv\")\n",
    "census_df.head()"
   ]
  },
  {
   "cell_type": "code",
   "execution_count": 109,
   "metadata": {},
   "outputs": [
    {
     "data": {
      "text/html": [
       "<div>\n",
       "<style scoped>\n",
       "    .dataframe tbody tr th:only-of-type {\n",
       "        vertical-align: middle;\n",
       "    }\n",
       "\n",
       "    .dataframe tbody tr th {\n",
       "        vertical-align: top;\n",
       "    }\n",
       "\n",
       "    .dataframe thead th {\n",
       "        text-align: right;\n",
       "    }\n",
       "</style>\n",
       "<table border=\"1\" class=\"dataframe\">\n",
       "  <thead>\n",
       "    <tr style=\"text-align: right;\">\n",
       "      <th></th>\n",
       "      <th>Fact</th>\n",
       "      <th>Fact Note</th>\n",
       "      <th>Alabama</th>\n",
       "      <th>Alaska</th>\n",
       "      <th>Arizona</th>\n",
       "      <th>Arkansas</th>\n",
       "      <th>California</th>\n",
       "      <th>Colorado</th>\n",
       "      <th>Connecticut</th>\n",
       "      <th>Delaware</th>\n",
       "      <th>...</th>\n",
       "      <th>South Dakota</th>\n",
       "      <th>Tennessee</th>\n",
       "      <th>Texas</th>\n",
       "      <th>Utah</th>\n",
       "      <th>Vermont</th>\n",
       "      <th>Virginia</th>\n",
       "      <th>Washington</th>\n",
       "      <th>West Virginia</th>\n",
       "      <th>Wisconsin</th>\n",
       "      <th>Wyoming</th>\n",
       "    </tr>\n",
       "  </thead>\n",
       "  <tbody>\n",
       "    <tr>\n",
       "      <th>80</th>\n",
       "      <td>FN</td>\n",
       "      <td>Footnote on this item in place of data</td>\n",
       "      <td>NaN</td>\n",
       "      <td>NaN</td>\n",
       "      <td>NaN</td>\n",
       "      <td>NaN</td>\n",
       "      <td>NaN</td>\n",
       "      <td>NaN</td>\n",
       "      <td>NaN</td>\n",
       "      <td>NaN</td>\n",
       "      <td>...</td>\n",
       "      <td>NaN</td>\n",
       "      <td>NaN</td>\n",
       "      <td>NaN</td>\n",
       "      <td>NaN</td>\n",
       "      <td>NaN</td>\n",
       "      <td>NaN</td>\n",
       "      <td>NaN</td>\n",
       "      <td>NaN</td>\n",
       "      <td>NaN</td>\n",
       "      <td>NaN</td>\n",
       "    </tr>\n",
       "    <tr>\n",
       "      <th>81</th>\n",
       "      <td>NaN</td>\n",
       "      <td>Not available</td>\n",
       "      <td>NaN</td>\n",
       "      <td>NaN</td>\n",
       "      <td>NaN</td>\n",
       "      <td>NaN</td>\n",
       "      <td>NaN</td>\n",
       "      <td>NaN</td>\n",
       "      <td>NaN</td>\n",
       "      <td>NaN</td>\n",
       "      <td>...</td>\n",
       "      <td>NaN</td>\n",
       "      <td>NaN</td>\n",
       "      <td>NaN</td>\n",
       "      <td>NaN</td>\n",
       "      <td>NaN</td>\n",
       "      <td>NaN</td>\n",
       "      <td>NaN</td>\n",
       "      <td>NaN</td>\n",
       "      <td>NaN</td>\n",
       "      <td>NaN</td>\n",
       "    </tr>\n",
       "    <tr>\n",
       "      <th>82</th>\n",
       "      <td>S</td>\n",
       "      <td>Suppressed; does not meet publication standards</td>\n",
       "      <td>NaN</td>\n",
       "      <td>NaN</td>\n",
       "      <td>NaN</td>\n",
       "      <td>NaN</td>\n",
       "      <td>NaN</td>\n",
       "      <td>NaN</td>\n",
       "      <td>NaN</td>\n",
       "      <td>NaN</td>\n",
       "      <td>...</td>\n",
       "      <td>NaN</td>\n",
       "      <td>NaN</td>\n",
       "      <td>NaN</td>\n",
       "      <td>NaN</td>\n",
       "      <td>NaN</td>\n",
       "      <td>NaN</td>\n",
       "      <td>NaN</td>\n",
       "      <td>NaN</td>\n",
       "      <td>NaN</td>\n",
       "      <td>NaN</td>\n",
       "    </tr>\n",
       "    <tr>\n",
       "      <th>83</th>\n",
       "      <td>X</td>\n",
       "      <td>Not applicable</td>\n",
       "      <td>NaN</td>\n",
       "      <td>NaN</td>\n",
       "      <td>NaN</td>\n",
       "      <td>NaN</td>\n",
       "      <td>NaN</td>\n",
       "      <td>NaN</td>\n",
       "      <td>NaN</td>\n",
       "      <td>NaN</td>\n",
       "      <td>...</td>\n",
       "      <td>NaN</td>\n",
       "      <td>NaN</td>\n",
       "      <td>NaN</td>\n",
       "      <td>NaN</td>\n",
       "      <td>NaN</td>\n",
       "      <td>NaN</td>\n",
       "      <td>NaN</td>\n",
       "      <td>NaN</td>\n",
       "      <td>NaN</td>\n",
       "      <td>NaN</td>\n",
       "    </tr>\n",
       "    <tr>\n",
       "      <th>84</th>\n",
       "      <td>Z</td>\n",
       "      <td>Value greater than zero but less than half uni...</td>\n",
       "      <td>NaN</td>\n",
       "      <td>NaN</td>\n",
       "      <td>NaN</td>\n",
       "      <td>NaN</td>\n",
       "      <td>NaN</td>\n",
       "      <td>NaN</td>\n",
       "      <td>NaN</td>\n",
       "      <td>NaN</td>\n",
       "      <td>...</td>\n",
       "      <td>NaN</td>\n",
       "      <td>NaN</td>\n",
       "      <td>NaN</td>\n",
       "      <td>NaN</td>\n",
       "      <td>NaN</td>\n",
       "      <td>NaN</td>\n",
       "      <td>NaN</td>\n",
       "      <td>NaN</td>\n",
       "      <td>NaN</td>\n",
       "      <td>NaN</td>\n",
       "    </tr>\n",
       "  </tbody>\n",
       "</table>\n",
       "<p>5 rows × 52 columns</p>\n",
       "</div>"
      ],
      "text/plain": [
       "   Fact                                          Fact Note Alabama Alaska  \\\n",
       "80   FN             Footnote on this item in place of data     NaN    NaN   \n",
       "81  NaN                                      Not available     NaN    NaN   \n",
       "82    S    Suppressed; does not meet publication standards     NaN    NaN   \n",
       "83    X                                     Not applicable     NaN    NaN   \n",
       "84    Z  Value greater than zero but less than half uni...     NaN    NaN   \n",
       "\n",
       "   Arizona Arkansas California Colorado Connecticut Delaware   ...    \\\n",
       "80     NaN      NaN        NaN      NaN         NaN      NaN   ...     \n",
       "81     NaN      NaN        NaN      NaN         NaN      NaN   ...     \n",
       "82     NaN      NaN        NaN      NaN         NaN      NaN   ...     \n",
       "83     NaN      NaN        NaN      NaN         NaN      NaN   ...     \n",
       "84     NaN      NaN        NaN      NaN         NaN      NaN   ...     \n",
       "\n",
       "   South Dakota Tennessee Texas Utah Vermont Virginia Washington  \\\n",
       "80          NaN       NaN   NaN  NaN     NaN      NaN        NaN   \n",
       "81          NaN       NaN   NaN  NaN     NaN      NaN        NaN   \n",
       "82          NaN       NaN   NaN  NaN     NaN      NaN        NaN   \n",
       "83          NaN       NaN   NaN  NaN     NaN      NaN        NaN   \n",
       "84          NaN       NaN   NaN  NaN     NaN      NaN        NaN   \n",
       "\n",
       "   West Virginia Wisconsin Wyoming  \n",
       "80           NaN       NaN     NaN  \n",
       "81           NaN       NaN     NaN  \n",
       "82           NaN       NaN     NaN  \n",
       "83           NaN       NaN     NaN  \n",
       "84           NaN       NaN     NaN  \n",
       "\n",
       "[5 rows x 52 columns]"
      ]
     },
     "execution_count": 109,
     "metadata": {},
     "output_type": "execute_result"
    }
   ],
   "source": [
    "# let check the last dataset\n",
    "census_df.tail()"
   ]
  },
  {
   "cell_type": "markdown",
   "metadata": {},
   "source": [
    "# Data Cleaning"
   ]
  },
  {
   "cell_type": "code",
   "execution_count": 110,
   "metadata": {},
   "outputs": [],
   "source": [
    "# let drop the undisire rows\n",
    "census_df = census_df.drop(census_df.index[65:]).reset_index()"
   ]
  },
  {
   "cell_type": "code",
   "execution_count": 111,
   "metadata": {},
   "outputs": [],
   "source": [
    "# let change my index to be Fact \n",
    "census_df.set_index('Fact',inplace=True)\n",
    "# let transform the DataFrame\n",
    "census_df = census_df.T.reset_index()"
   ]
  },
  {
   "cell_type": "code",
   "execution_count": 112,
   "metadata": {},
   "outputs": [
    {
     "data": {
      "text/html": [
       "<div>\n",
       "<style scoped>\n",
       "    .dataframe tbody tr th:only-of-type {\n",
       "        vertical-align: middle;\n",
       "    }\n",
       "\n",
       "    .dataframe tbody tr th {\n",
       "        vertical-align: top;\n",
       "    }\n",
       "\n",
       "    .dataframe thead th {\n",
       "        text-align: right;\n",
       "    }\n",
       "</style>\n",
       "<table border=\"1\" class=\"dataframe\">\n",
       "  <thead>\n",
       "    <tr style=\"text-align: right;\">\n",
       "      <th>Fact</th>\n",
       "      <th>index</th>\n",
       "      <th>Population estimates, July 1, 2016,  (V2016)</th>\n",
       "      <th>Population estimates base, April 1, 2010,  (V2016)</th>\n",
       "      <th>Population, percent change - April 1, 2010 (estimates base) to July 1, 2016,  (V2016)</th>\n",
       "      <th>Population, Census, April 1, 2010</th>\n",
       "      <th>Persons under 5 years, percent, July 1, 2016,  (V2016)</th>\n",
       "      <th>Persons under 5 years, percent, April 1, 2010</th>\n",
       "      <th>Persons under 18 years, percent, July 1, 2016,  (V2016)</th>\n",
       "      <th>Persons under 18 years, percent, April 1, 2010</th>\n",
       "      <th>Persons 65 years and over, percent,  July 1, 2016,  (V2016)</th>\n",
       "      <th>...</th>\n",
       "      <th>All firms, 2012</th>\n",
       "      <th>Men-owned firms, 2012</th>\n",
       "      <th>Women-owned firms, 2012</th>\n",
       "      <th>Minority-owned firms, 2012</th>\n",
       "      <th>Nonminority-owned firms, 2012</th>\n",
       "      <th>Veteran-owned firms, 2012</th>\n",
       "      <th>Nonveteran-owned firms, 2012</th>\n",
       "      <th>Population per square mile, 2010</th>\n",
       "      <th>Land area in square miles, 2010</th>\n",
       "      <th>FIPS Code</th>\n",
       "    </tr>\n",
       "  </thead>\n",
       "  <tbody>\n",
       "    <tr>\n",
       "      <th>0</th>\n",
       "      <td>index</td>\n",
       "      <td>0</td>\n",
       "      <td>1</td>\n",
       "      <td>2</td>\n",
       "      <td>3</td>\n",
       "      <td>4</td>\n",
       "      <td>5</td>\n",
       "      <td>6</td>\n",
       "      <td>7</td>\n",
       "      <td>8</td>\n",
       "      <td>...</td>\n",
       "      <td>55</td>\n",
       "      <td>56</td>\n",
       "      <td>57</td>\n",
       "      <td>58</td>\n",
       "      <td>59</td>\n",
       "      <td>60</td>\n",
       "      <td>61</td>\n",
       "      <td>62</td>\n",
       "      <td>63</td>\n",
       "      <td>64</td>\n",
       "    </tr>\n",
       "    <tr>\n",
       "      <th>1</th>\n",
       "      <td>Fact Note</td>\n",
       "      <td>NaN</td>\n",
       "      <td>NaN</td>\n",
       "      <td>NaN</td>\n",
       "      <td>NaN</td>\n",
       "      <td>NaN</td>\n",
       "      <td>NaN</td>\n",
       "      <td>NaN</td>\n",
       "      <td>NaN</td>\n",
       "      <td>NaN</td>\n",
       "      <td>...</td>\n",
       "      <td>NaN</td>\n",
       "      <td>NaN</td>\n",
       "      <td>NaN</td>\n",
       "      <td>NaN</td>\n",
       "      <td>NaN</td>\n",
       "      <td>NaN</td>\n",
       "      <td>NaN</td>\n",
       "      <td>NaN</td>\n",
       "      <td>NaN</td>\n",
       "      <td>NaN</td>\n",
       "    </tr>\n",
       "    <tr>\n",
       "      <th>2</th>\n",
       "      <td>Alabama</td>\n",
       "      <td>4,863,300</td>\n",
       "      <td>4,780,131</td>\n",
       "      <td>1.70%</td>\n",
       "      <td>4,779,736</td>\n",
       "      <td>6.00%</td>\n",
       "      <td>6.40%</td>\n",
       "      <td>22.60%</td>\n",
       "      <td>23.70%</td>\n",
       "      <td>16.10%</td>\n",
       "      <td>...</td>\n",
       "      <td>374,153</td>\n",
       "      <td>203,604</td>\n",
       "      <td>137,630</td>\n",
       "      <td>92,219</td>\n",
       "      <td>272,651</td>\n",
       "      <td>41,943</td>\n",
       "      <td>316,984</td>\n",
       "      <td>94.4</td>\n",
       "      <td>50,645.33</td>\n",
       "      <td>\"01\"</td>\n",
       "    </tr>\n",
       "    <tr>\n",
       "      <th>3</th>\n",
       "      <td>Alaska</td>\n",
       "      <td>741,894</td>\n",
       "      <td>710,249</td>\n",
       "      <td>4.50%</td>\n",
       "      <td>710,231</td>\n",
       "      <td>7.30%</td>\n",
       "      <td>7.60%</td>\n",
       "      <td>25.20%</td>\n",
       "      <td>26.40%</td>\n",
       "      <td>10.40%</td>\n",
       "      <td>...</td>\n",
       "      <td>68,032</td>\n",
       "      <td>35,402</td>\n",
       "      <td>22,141</td>\n",
       "      <td>13,688</td>\n",
       "      <td>51,147</td>\n",
       "      <td>7,953</td>\n",
       "      <td>56,091</td>\n",
       "      <td>1.2</td>\n",
       "      <td>570,640.95</td>\n",
       "      <td>\"02\"</td>\n",
       "    </tr>\n",
       "    <tr>\n",
       "      <th>4</th>\n",
       "      <td>Arizona</td>\n",
       "      <td>6,931,071</td>\n",
       "      <td>6,392,301</td>\n",
       "      <td>8.40%</td>\n",
       "      <td>6,392,017</td>\n",
       "      <td>6.30%</td>\n",
       "      <td>7.10%</td>\n",
       "      <td>23.50%</td>\n",
       "      <td>25.50%</td>\n",
       "      <td>16.90%</td>\n",
       "      <td>...</td>\n",
       "      <td>499,926</td>\n",
       "      <td>245,243</td>\n",
       "      <td>182,425</td>\n",
       "      <td>135,313</td>\n",
       "      <td>344,981</td>\n",
       "      <td>46,780</td>\n",
       "      <td>427,582</td>\n",
       "      <td>56.3</td>\n",
       "      <td>113,594.08</td>\n",
       "      <td>\"04\"</td>\n",
       "    </tr>\n",
       "  </tbody>\n",
       "</table>\n",
       "<p>5 rows × 66 columns</p>\n",
       "</div>"
      ],
      "text/plain": [
       "Fact      index Population estimates, July 1, 2016,  (V2016)  \\\n",
       "0         index                                            0   \n",
       "1     Fact Note                                          NaN   \n",
       "2       Alabama                                    4,863,300   \n",
       "3        Alaska                                      741,894   \n",
       "4       Arizona                                    6,931,071   \n",
       "\n",
       "Fact Population estimates base, April 1, 2010,  (V2016)  \\\n",
       "0                                                     1   \n",
       "1                                                   NaN   \n",
       "2                                             4,780,131   \n",
       "3                                               710,249   \n",
       "4                                             6,392,301   \n",
       "\n",
       "Fact Population, percent change - April 1, 2010 (estimates base) to July 1, 2016,  (V2016)  \\\n",
       "0                                                     2                                      \n",
       "1                                                   NaN                                      \n",
       "2                                                 1.70%                                      \n",
       "3                                                 4.50%                                      \n",
       "4                                                 8.40%                                      \n",
       "\n",
       "Fact Population, Census, April 1, 2010  \\\n",
       "0                                    3   \n",
       "1                                  NaN   \n",
       "2                            4,779,736   \n",
       "3                              710,231   \n",
       "4                            6,392,017   \n",
       "\n",
       "Fact Persons under 5 years, percent, July 1, 2016,  (V2016)  \\\n",
       "0                                                     4       \n",
       "1                                                   NaN       \n",
       "2                                                 6.00%       \n",
       "3                                                 7.30%       \n",
       "4                                                 6.30%       \n",
       "\n",
       "Fact Persons under 5 years, percent, April 1, 2010  \\\n",
       "0                                                5   \n",
       "1                                              NaN   \n",
       "2                                            6.40%   \n",
       "3                                            7.60%   \n",
       "4                                            7.10%   \n",
       "\n",
       "Fact Persons under 18 years, percent, July 1, 2016,  (V2016)  \\\n",
       "0                                                     6        \n",
       "1                                                   NaN        \n",
       "2                                                22.60%        \n",
       "3                                                25.20%        \n",
       "4                                                23.50%        \n",
       "\n",
       "Fact Persons under 18 years, percent, April 1, 2010  \\\n",
       "0                                                 7   \n",
       "1                                               NaN   \n",
       "2                                            23.70%   \n",
       "3                                            26.40%   \n",
       "4                                            25.50%   \n",
       "\n",
       "Fact Persons 65 years and over, percent,  July 1, 2016,  (V2016)    ...     \\\n",
       "0                                                     8             ...      \n",
       "1                                                   NaN             ...      \n",
       "2                                                16.10%             ...      \n",
       "3                                                10.40%             ...      \n",
       "4                                                16.90%             ...      \n",
       "\n",
       "Fact All firms, 2012 Men-owned firms, 2012 Women-owned firms, 2012  \\\n",
       "0                 55                    56                      57   \n",
       "1                NaN                   NaN                     NaN   \n",
       "2            374,153               203,604                 137,630   \n",
       "3             68,032                35,402                  22,141   \n",
       "4            499,926               245,243                 182,425   \n",
       "\n",
       "Fact Minority-owned firms, 2012 Nonminority-owned firms, 2012  \\\n",
       "0                            58                            59   \n",
       "1                           NaN                           NaN   \n",
       "2                        92,219                       272,651   \n",
       "3                        13,688                        51,147   \n",
       "4                       135,313                       344,981   \n",
       "\n",
       "Fact Veteran-owned firms, 2012 Nonveteran-owned firms, 2012  \\\n",
       "0                           60                           61   \n",
       "1                          NaN                          NaN   \n",
       "2                       41,943                      316,984   \n",
       "3                        7,953                       56,091   \n",
       "4                       46,780                      427,582   \n",
       "\n",
       "Fact Population per square mile, 2010 Land area in square miles, 2010  \\\n",
       "0                                  62                              63   \n",
       "1                                 NaN                             NaN   \n",
       "2                                94.4                       50,645.33   \n",
       "3                                 1.2                      570,640.95   \n",
       "4                                56.3                      113,594.08   \n",
       "\n",
       "Fact FIPS Code  \n",
       "0           64  \n",
       "1          NaN  \n",
       "2         \"01\"  \n",
       "3         \"02\"  \n",
       "4         \"04\"  \n",
       "\n",
       "[5 rows x 66 columns]"
      ]
     },
     "execution_count": 112,
     "metadata": {},
     "output_type": "execute_result"
    }
   ],
   "source": [
    "census_df.head()"
   ]
  },
  {
   "cell_type": "code",
   "execution_count": 113,
   "metadata": {},
   "outputs": [],
   "source": [
    "# let remove the fisrt and second rows since it will not add any significant value to my analysis\n",
    "census_df = census_df.drop(census_df.index[0:2]).reset_index()"
   ]
  },
  {
   "cell_type": "code",
   "execution_count": 114,
   "metadata": {},
   "outputs": [],
   "source": [
    "# let rename my index column to state \n",
    "census_df = census_df.rename({\"index\":\"state\"}, axis=1)\n",
    "# let drop the level_0 column\n",
    "census_df = census_df.drop(columns='level_0')"
   ]
  },
  {
   "cell_type": "code",
   "execution_count": 115,
   "metadata": {},
   "outputs": [],
   "source": [
    "# list of columns to be converted to float data type\n",
    "float_columns = ['Population estimates base, April 1, 2010,  (V2016)','Population estimates, July 1, 2016,  (V2016)','Population, Census, April 1, 2010']"
   ]
  },
  {
   "cell_type": "code",
   "execution_count": 116,
   "metadata": {},
   "outputs": [],
   "source": [
    "# let convert Population estimates, July 1, 2016,  (V2016) data type to float\n",
    "for c in float_columns:\n",
    "    census_df[c] = census_df[c].str.replace(\",\",\"\").astype(float)"
   ]
  },
  {
   "cell_type": "code",
   "execution_count": 117,
   "metadata": {},
   "outputs": [
    {
     "data": {
      "text/html": [
       "<div>\n",
       "<style scoped>\n",
       "    .dataframe tbody tr th:only-of-type {\n",
       "        vertical-align: middle;\n",
       "    }\n",
       "\n",
       "    .dataframe tbody tr th {\n",
       "        vertical-align: top;\n",
       "    }\n",
       "\n",
       "    .dataframe thead th {\n",
       "        text-align: right;\n",
       "    }\n",
       "</style>\n",
       "<table border=\"1\" class=\"dataframe\">\n",
       "  <thead>\n",
       "    <tr style=\"text-align: right;\">\n",
       "      <th>Fact</th>\n",
       "      <th>state</th>\n",
       "      <th>Population estimates, July 1, 2016,  (V2016)</th>\n",
       "      <th>Population estimates base, April 1, 2010,  (V2016)</th>\n",
       "      <th>Population, percent change - April 1, 2010 (estimates base) to July 1, 2016,  (V2016)</th>\n",
       "      <th>Population, Census, April 1, 2010</th>\n",
       "      <th>Persons under 5 years, percent, July 1, 2016,  (V2016)</th>\n",
       "      <th>Persons under 5 years, percent, April 1, 2010</th>\n",
       "      <th>Persons under 18 years, percent, July 1, 2016,  (V2016)</th>\n",
       "      <th>Persons under 18 years, percent, April 1, 2010</th>\n",
       "      <th>Persons 65 years and over, percent,  July 1, 2016,  (V2016)</th>\n",
       "      <th>...</th>\n",
       "      <th>All firms, 2012</th>\n",
       "      <th>Men-owned firms, 2012</th>\n",
       "      <th>Women-owned firms, 2012</th>\n",
       "      <th>Minority-owned firms, 2012</th>\n",
       "      <th>Nonminority-owned firms, 2012</th>\n",
       "      <th>Veteran-owned firms, 2012</th>\n",
       "      <th>Nonveteran-owned firms, 2012</th>\n",
       "      <th>Population per square mile, 2010</th>\n",
       "      <th>Land area in square miles, 2010</th>\n",
       "      <th>FIPS Code</th>\n",
       "    </tr>\n",
       "  </thead>\n",
       "  <tbody>\n",
       "    <tr>\n",
       "      <th>0</th>\n",
       "      <td>Alabama</td>\n",
       "      <td>4863300.0</td>\n",
       "      <td>4780131.0</td>\n",
       "      <td>1.70%</td>\n",
       "      <td>4779736.0</td>\n",
       "      <td>6.00%</td>\n",
       "      <td>6.40%</td>\n",
       "      <td>22.60%</td>\n",
       "      <td>23.70%</td>\n",
       "      <td>16.10%</td>\n",
       "      <td>...</td>\n",
       "      <td>374,153</td>\n",
       "      <td>203,604</td>\n",
       "      <td>137,630</td>\n",
       "      <td>92,219</td>\n",
       "      <td>272,651</td>\n",
       "      <td>41,943</td>\n",
       "      <td>316,984</td>\n",
       "      <td>94.4</td>\n",
       "      <td>50,645.33</td>\n",
       "      <td>\"01\"</td>\n",
       "    </tr>\n",
       "    <tr>\n",
       "      <th>1</th>\n",
       "      <td>Alaska</td>\n",
       "      <td>741894.0</td>\n",
       "      <td>710249.0</td>\n",
       "      <td>4.50%</td>\n",
       "      <td>710231.0</td>\n",
       "      <td>7.30%</td>\n",
       "      <td>7.60%</td>\n",
       "      <td>25.20%</td>\n",
       "      <td>26.40%</td>\n",
       "      <td>10.40%</td>\n",
       "      <td>...</td>\n",
       "      <td>68,032</td>\n",
       "      <td>35,402</td>\n",
       "      <td>22,141</td>\n",
       "      <td>13,688</td>\n",
       "      <td>51,147</td>\n",
       "      <td>7,953</td>\n",
       "      <td>56,091</td>\n",
       "      <td>1.2</td>\n",
       "      <td>570,640.95</td>\n",
       "      <td>\"02\"</td>\n",
       "    </tr>\n",
       "    <tr>\n",
       "      <th>2</th>\n",
       "      <td>Arizona</td>\n",
       "      <td>6931071.0</td>\n",
       "      <td>6392301.0</td>\n",
       "      <td>8.40%</td>\n",
       "      <td>6392017.0</td>\n",
       "      <td>6.30%</td>\n",
       "      <td>7.10%</td>\n",
       "      <td>23.50%</td>\n",
       "      <td>25.50%</td>\n",
       "      <td>16.90%</td>\n",
       "      <td>...</td>\n",
       "      <td>499,926</td>\n",
       "      <td>245,243</td>\n",
       "      <td>182,425</td>\n",
       "      <td>135,313</td>\n",
       "      <td>344,981</td>\n",
       "      <td>46,780</td>\n",
       "      <td>427,582</td>\n",
       "      <td>56.3</td>\n",
       "      <td>113,594.08</td>\n",
       "      <td>\"04\"</td>\n",
       "    </tr>\n",
       "    <tr>\n",
       "      <th>3</th>\n",
       "      <td>Arkansas</td>\n",
       "      <td>2988248.0</td>\n",
       "      <td>2916025.0</td>\n",
       "      <td>2.50%</td>\n",
       "      <td>2915918.0</td>\n",
       "      <td>6.40%</td>\n",
       "      <td>6.80%</td>\n",
       "      <td>23.60%</td>\n",
       "      <td>24.40%</td>\n",
       "      <td>16.30%</td>\n",
       "      <td>...</td>\n",
       "      <td>231,959</td>\n",
       "      <td>123,158</td>\n",
       "      <td>75,962</td>\n",
       "      <td>35,982</td>\n",
       "      <td>189,029</td>\n",
       "      <td>25,915</td>\n",
       "      <td>192,988</td>\n",
       "      <td>56</td>\n",
       "      <td>52,035.48</td>\n",
       "      <td>\"05\"</td>\n",
       "    </tr>\n",
       "    <tr>\n",
       "      <th>4</th>\n",
       "      <td>California</td>\n",
       "      <td>39250017.0</td>\n",
       "      <td>37254522.0</td>\n",
       "      <td>5.40%</td>\n",
       "      <td>37253956.0</td>\n",
       "      <td>6.30%</td>\n",
       "      <td>6.80%</td>\n",
       "      <td>23.20%</td>\n",
       "      <td>25.00%</td>\n",
       "      <td>13.60%</td>\n",
       "      <td>...</td>\n",
       "      <td>3,548,449</td>\n",
       "      <td>1,852,580</td>\n",
       "      <td>1,320,085</td>\n",
       "      <td>1,619,857</td>\n",
       "      <td>1,819,107</td>\n",
       "      <td>252,377</td>\n",
       "      <td>3,176,341</td>\n",
       "      <td>239.1</td>\n",
       "      <td>155,779.22</td>\n",
       "      <td>\"06\"</td>\n",
       "    </tr>\n",
       "  </tbody>\n",
       "</table>\n",
       "<p>5 rows × 66 columns</p>\n",
       "</div>"
      ],
      "text/plain": [
       "Fact       state  Population estimates, July 1, 2016,  (V2016)  \\\n",
       "0        Alabama                                     4863300.0   \n",
       "1         Alaska                                      741894.0   \n",
       "2        Arizona                                     6931071.0   \n",
       "3       Arkansas                                     2988248.0   \n",
       "4     California                                    39250017.0   \n",
       "\n",
       "Fact  Population estimates base, April 1, 2010,  (V2016)  \\\n",
       "0                                             4780131.0    \n",
       "1                                              710249.0    \n",
       "2                                             6392301.0    \n",
       "3                                             2916025.0    \n",
       "4                                            37254522.0    \n",
       "\n",
       "Fact Population, percent change - April 1, 2010 (estimates base) to July 1, 2016,  (V2016)  \\\n",
       "0                                                 1.70%                                      \n",
       "1                                                 4.50%                                      \n",
       "2                                                 8.40%                                      \n",
       "3                                                 2.50%                                      \n",
       "4                                                 5.40%                                      \n",
       "\n",
       "Fact  Population, Census, April 1, 2010  \\\n",
       "0                             4779736.0   \n",
       "1                              710231.0   \n",
       "2                             6392017.0   \n",
       "3                             2915918.0   \n",
       "4                            37253956.0   \n",
       "\n",
       "Fact Persons under 5 years, percent, July 1, 2016,  (V2016)  \\\n",
       "0                                                 6.00%       \n",
       "1                                                 7.30%       \n",
       "2                                                 6.30%       \n",
       "3                                                 6.40%       \n",
       "4                                                 6.30%       \n",
       "\n",
       "Fact Persons under 5 years, percent, April 1, 2010  \\\n",
       "0                                            6.40%   \n",
       "1                                            7.60%   \n",
       "2                                            7.10%   \n",
       "3                                            6.80%   \n",
       "4                                            6.80%   \n",
       "\n",
       "Fact Persons under 18 years, percent, July 1, 2016,  (V2016)  \\\n",
       "0                                                22.60%        \n",
       "1                                                25.20%        \n",
       "2                                                23.50%        \n",
       "3                                                23.60%        \n",
       "4                                                23.20%        \n",
       "\n",
       "Fact Persons under 18 years, percent, April 1, 2010  \\\n",
       "0                                            23.70%   \n",
       "1                                            26.40%   \n",
       "2                                            25.50%   \n",
       "3                                            24.40%   \n",
       "4                                            25.00%   \n",
       "\n",
       "Fact Persons 65 years and over, percent,  July 1, 2016,  (V2016)    ...     \\\n",
       "0                                                16.10%             ...      \n",
       "1                                                10.40%             ...      \n",
       "2                                                16.90%             ...      \n",
       "3                                                16.30%             ...      \n",
       "4                                                13.60%             ...      \n",
       "\n",
       "Fact All firms, 2012 Men-owned firms, 2012 Women-owned firms, 2012  \\\n",
       "0            374,153               203,604                 137,630   \n",
       "1             68,032                35,402                  22,141   \n",
       "2            499,926               245,243                 182,425   \n",
       "3            231,959               123,158                  75,962   \n",
       "4          3,548,449             1,852,580               1,320,085   \n",
       "\n",
       "Fact Minority-owned firms, 2012 Nonminority-owned firms, 2012  \\\n",
       "0                        92,219                       272,651   \n",
       "1                        13,688                        51,147   \n",
       "2                       135,313                       344,981   \n",
       "3                        35,982                       189,029   \n",
       "4                     1,619,857                     1,819,107   \n",
       "\n",
       "Fact Veteran-owned firms, 2012 Nonveteran-owned firms, 2012  \\\n",
       "0                       41,943                      316,984   \n",
       "1                        7,953                       56,091   \n",
       "2                       46,780                      427,582   \n",
       "3                       25,915                      192,988   \n",
       "4                      252,377                    3,176,341   \n",
       "\n",
       "Fact Population per square mile, 2010 Land area in square miles, 2010  \\\n",
       "0                                94.4                       50,645.33   \n",
       "1                                 1.2                      570,640.95   \n",
       "2                                56.3                      113,594.08   \n",
       "3                                  56                       52,035.48   \n",
       "4                               239.1                      155,779.22   \n",
       "\n",
       "Fact FIPS Code  \n",
       "0         \"01\"  \n",
       "1         \"02\"  \n",
       "2         \"04\"  \n",
       "3         \"05\"  \n",
       "4         \"06\"  \n",
       "\n",
       "[5 rows x 66 columns]"
      ]
     },
     "execution_count": 117,
     "metadata": {},
     "output_type": "execute_result"
    }
   ],
   "source": [
    "census_df.head()"
   ]
  },
  {
   "cell_type": "code",
   "execution_count": 118,
   "metadata": {},
   "outputs": [],
   "source": [
    "# let query 2010 and 2016 census Data\n",
    "census_clean = census_df[['state','Population estimates, July 1, 2016,  (V2016)','Population estimates base, April 1, 2010,  (V2016)']]"
   ]
  },
  {
   "cell_type": "code",
   "execution_count": 119,
   "metadata": {},
   "outputs": [
    {
     "data": {
      "text/html": [
       "<div>\n",
       "<style scoped>\n",
       "    .dataframe tbody tr th:only-of-type {\n",
       "        vertical-align: middle;\n",
       "    }\n",
       "\n",
       "    .dataframe tbody tr th {\n",
       "        vertical-align: top;\n",
       "    }\n",
       "\n",
       "    .dataframe thead th {\n",
       "        text-align: right;\n",
       "    }\n",
       "</style>\n",
       "<table border=\"1\" class=\"dataframe\">\n",
       "  <thead>\n",
       "    <tr style=\"text-align: right;\">\n",
       "      <th>Fact</th>\n",
       "      <th>state</th>\n",
       "      <th>Population estimates, July 1, 2016,  (V2016)</th>\n",
       "      <th>Population estimates base, April 1, 2010,  (V2016)</th>\n",
       "    </tr>\n",
       "  </thead>\n",
       "  <tbody>\n",
       "    <tr>\n",
       "      <th>0</th>\n",
       "      <td>Alabama</td>\n",
       "      <td>4863300.0</td>\n",
       "      <td>4780131.0</td>\n",
       "    </tr>\n",
       "    <tr>\n",
       "      <th>1</th>\n",
       "      <td>Alaska</td>\n",
       "      <td>741894.0</td>\n",
       "      <td>710249.0</td>\n",
       "    </tr>\n",
       "    <tr>\n",
       "      <th>2</th>\n",
       "      <td>Arizona</td>\n",
       "      <td>6931071.0</td>\n",
       "      <td>6392301.0</td>\n",
       "    </tr>\n",
       "    <tr>\n",
       "      <th>3</th>\n",
       "      <td>Arkansas</td>\n",
       "      <td>2988248.0</td>\n",
       "      <td>2916025.0</td>\n",
       "    </tr>\n",
       "    <tr>\n",
       "      <th>4</th>\n",
       "      <td>California</td>\n",
       "      <td>39250017.0</td>\n",
       "      <td>37254522.0</td>\n",
       "    </tr>\n",
       "  </tbody>\n",
       "</table>\n",
       "</div>"
      ],
      "text/plain": [
       "Fact       state  Population estimates, July 1, 2016,  (V2016)  \\\n",
       "0        Alabama                                     4863300.0   \n",
       "1         Alaska                                      741894.0   \n",
       "2        Arizona                                     6931071.0   \n",
       "3       Arkansas                                     2988248.0   \n",
       "4     California                                    39250017.0   \n",
       "\n",
       "Fact  Population estimates base, April 1, 2010,  (V2016)  \n",
       "0                                             4780131.0   \n",
       "1                                              710249.0   \n",
       "2                                             6392301.0   \n",
       "3                                             2916025.0   \n",
       "4                                            37254522.0   "
      ]
     },
     "execution_count": 119,
     "metadata": {},
     "output_type": "execute_result"
    }
   ],
   "source": [
    "census_clean.head()"
   ]
  },
  {
   "cell_type": "code",
   "execution_count": 120,
   "metadata": {},
   "outputs": [
    {
     "data": {
      "text/html": [
       "<div>\n",
       "<style scoped>\n",
       "    .dataframe tbody tr th:only-of-type {\n",
       "        vertical-align: middle;\n",
       "    }\n",
       "\n",
       "    .dataframe tbody tr th {\n",
       "        vertical-align: top;\n",
       "    }\n",
       "\n",
       "    .dataframe thead th {\n",
       "        text-align: right;\n",
       "    }\n",
       "</style>\n",
       "<table border=\"1\" class=\"dataframe\">\n",
       "  <thead>\n",
       "    <tr style=\"text-align: right;\">\n",
       "      <th>Fact</th>\n",
       "      <th>Population estimates, July 1, 2016,  (V2016)</th>\n",
       "      <th>Population estimates base, April 1, 2010,  (V2016)</th>\n",
       "    </tr>\n",
       "  </thead>\n",
       "  <tbody>\n",
       "    <tr>\n",
       "      <th>count</th>\n",
       "      <td>5.000000e+01</td>\n",
       "      <td>5.000000e+01</td>\n",
       "    </tr>\n",
       "    <tr>\n",
       "      <th>mean</th>\n",
       "      <td>6.448927e+06</td>\n",
       "      <td>6.163127e+06</td>\n",
       "    </tr>\n",
       "    <tr>\n",
       "      <th>std</th>\n",
       "      <td>7.271769e+06</td>\n",
       "      <td>6.848463e+06</td>\n",
       "    </tr>\n",
       "    <tr>\n",
       "      <th>min</th>\n",
       "      <td>5.855010e+05</td>\n",
       "      <td>5.637670e+05</td>\n",
       "    </tr>\n",
       "    <tr>\n",
       "      <th>25%</th>\n",
       "      <td>1.850106e+06</td>\n",
       "      <td>1.833003e+06</td>\n",
       "    </tr>\n",
       "    <tr>\n",
       "      <th>50%</th>\n",
       "      <td>4.559320e+06</td>\n",
       "      <td>4.436412e+06</td>\n",
       "    </tr>\n",
       "    <tr>\n",
       "      <th>75%</th>\n",
       "      <td>7.198768e+06</td>\n",
       "      <td>6.680362e+06</td>\n",
       "    </tr>\n",
       "    <tr>\n",
       "      <th>max</th>\n",
       "      <td>3.925002e+07</td>\n",
       "      <td>3.725452e+07</td>\n",
       "    </tr>\n",
       "  </tbody>\n",
       "</table>\n",
       "</div>"
      ],
      "text/plain": [
       "Fact   Population estimates, July 1, 2016,  (V2016)  \\\n",
       "count                                  5.000000e+01   \n",
       "mean                                   6.448927e+06   \n",
       "std                                    7.271769e+06   \n",
       "min                                    5.855010e+05   \n",
       "25%                                    1.850106e+06   \n",
       "50%                                    4.559320e+06   \n",
       "75%                                    7.198768e+06   \n",
       "max                                    3.925002e+07   \n",
       "\n",
       "Fact   Population estimates base, April 1, 2010,  (V2016)  \n",
       "count                                       5.000000e+01   \n",
       "mean                                        6.163127e+06   \n",
       "std                                         6.848463e+06   \n",
       "min                                         5.637670e+05   \n",
       "25%                                         1.833003e+06   \n",
       "50%                                         4.436412e+06   \n",
       "75%                                         6.680362e+06   \n",
       "max                                         3.725452e+07   "
      ]
     },
     "execution_count": 120,
     "metadata": {},
     "output_type": "execute_result"
    }
   ],
   "source": [
    "# statistics summary\n",
    "census_clean.describe()"
   ]
  },
  {
   "cell_type": "code",
   "execution_count": 121,
   "metadata": {},
   "outputs": [
    {
     "data": {
      "text/html": [
       "<div>\n",
       "<style scoped>\n",
       "    .dataframe tbody tr th:only-of-type {\n",
       "        vertical-align: middle;\n",
       "    }\n",
       "\n",
       "    .dataframe tbody tr th {\n",
       "        vertical-align: top;\n",
       "    }\n",
       "\n",
       "    .dataframe thead th {\n",
       "        text-align: right;\n",
       "    }\n",
       "</style>\n",
       "<table border=\"1\" class=\"dataframe\">\n",
       "  <thead>\n",
       "    <tr style=\"text-align: right;\">\n",
       "      <th></th>\n",
       "      <th>month</th>\n",
       "      <th>state</th>\n",
       "      <th>permit</th>\n",
       "      <th>permit_recheck</th>\n",
       "      <th>handgun</th>\n",
       "      <th>long_gun</th>\n",
       "      <th>other</th>\n",
       "      <th>multiple</th>\n",
       "      <th>admin</th>\n",
       "      <th>prepawn_handgun</th>\n",
       "      <th>...</th>\n",
       "      <th>returned_other</th>\n",
       "      <th>rentals_handgun</th>\n",
       "      <th>rentals_long_gun</th>\n",
       "      <th>private_sale_handgun</th>\n",
       "      <th>private_sale_long_gun</th>\n",
       "      <th>private_sale_other</th>\n",
       "      <th>return_to_seller_handgun</th>\n",
       "      <th>return_to_seller_long_gun</th>\n",
       "      <th>return_to_seller_other</th>\n",
       "      <th>totals</th>\n",
       "    </tr>\n",
       "  </thead>\n",
       "  <tbody>\n",
       "    <tr>\n",
       "      <th>0</th>\n",
       "      <td>2017-09</td>\n",
       "      <td>Alabama</td>\n",
       "      <td>16717.0</td>\n",
       "      <td>0.0</td>\n",
       "      <td>5734.0</td>\n",
       "      <td>6320.0</td>\n",
       "      <td>221.0</td>\n",
       "      <td>317</td>\n",
       "      <td>0.0</td>\n",
       "      <td>15.0</td>\n",
       "      <td>...</td>\n",
       "      <td>0.0</td>\n",
       "      <td>0.0</td>\n",
       "      <td>0.0</td>\n",
       "      <td>9.0</td>\n",
       "      <td>16.0</td>\n",
       "      <td>3.0</td>\n",
       "      <td>0.0</td>\n",
       "      <td>0.0</td>\n",
       "      <td>3.0</td>\n",
       "      <td>32019</td>\n",
       "    </tr>\n",
       "    <tr>\n",
       "      <th>1</th>\n",
       "      <td>2017-09</td>\n",
       "      <td>Alaska</td>\n",
       "      <td>209.0</td>\n",
       "      <td>2.0</td>\n",
       "      <td>2320.0</td>\n",
       "      <td>2930.0</td>\n",
       "      <td>219.0</td>\n",
       "      <td>160</td>\n",
       "      <td>0.0</td>\n",
       "      <td>5.0</td>\n",
       "      <td>...</td>\n",
       "      <td>0.0</td>\n",
       "      <td>0.0</td>\n",
       "      <td>0.0</td>\n",
       "      <td>17.0</td>\n",
       "      <td>24.0</td>\n",
       "      <td>1.0</td>\n",
       "      <td>0.0</td>\n",
       "      <td>0.0</td>\n",
       "      <td>0.0</td>\n",
       "      <td>6303</td>\n",
       "    </tr>\n",
       "    <tr>\n",
       "      <th>2</th>\n",
       "      <td>2017-09</td>\n",
       "      <td>Arizona</td>\n",
       "      <td>5069.0</td>\n",
       "      <td>382.0</td>\n",
       "      <td>11063.0</td>\n",
       "      <td>7946.0</td>\n",
       "      <td>920.0</td>\n",
       "      <td>631</td>\n",
       "      <td>0.0</td>\n",
       "      <td>13.0</td>\n",
       "      <td>...</td>\n",
       "      <td>0.0</td>\n",
       "      <td>0.0</td>\n",
       "      <td>0.0</td>\n",
       "      <td>38.0</td>\n",
       "      <td>12.0</td>\n",
       "      <td>2.0</td>\n",
       "      <td>0.0</td>\n",
       "      <td>0.0</td>\n",
       "      <td>0.0</td>\n",
       "      <td>28394</td>\n",
       "    </tr>\n",
       "    <tr>\n",
       "      <th>3</th>\n",
       "      <td>2017-09</td>\n",
       "      <td>Arkansas</td>\n",
       "      <td>2935.0</td>\n",
       "      <td>632.0</td>\n",
       "      <td>4347.0</td>\n",
       "      <td>6063.0</td>\n",
       "      <td>165.0</td>\n",
       "      <td>366</td>\n",
       "      <td>51.0</td>\n",
       "      <td>12.0</td>\n",
       "      <td>...</td>\n",
       "      <td>0.0</td>\n",
       "      <td>0.0</td>\n",
       "      <td>0.0</td>\n",
       "      <td>13.0</td>\n",
       "      <td>23.0</td>\n",
       "      <td>0.0</td>\n",
       "      <td>0.0</td>\n",
       "      <td>2.0</td>\n",
       "      <td>1.0</td>\n",
       "      <td>17747</td>\n",
       "    </tr>\n",
       "    <tr>\n",
       "      <th>4</th>\n",
       "      <td>2017-09</td>\n",
       "      <td>California</td>\n",
       "      <td>57839.0</td>\n",
       "      <td>0.0</td>\n",
       "      <td>37165.0</td>\n",
       "      <td>24581.0</td>\n",
       "      <td>2984.0</td>\n",
       "      <td>0</td>\n",
       "      <td>0.0</td>\n",
       "      <td>0.0</td>\n",
       "      <td>...</td>\n",
       "      <td>0.0</td>\n",
       "      <td>0.0</td>\n",
       "      <td>0.0</td>\n",
       "      <td>0.0</td>\n",
       "      <td>0.0</td>\n",
       "      <td>0.0</td>\n",
       "      <td>0.0</td>\n",
       "      <td>0.0</td>\n",
       "      <td>0.0</td>\n",
       "      <td>123506</td>\n",
       "    </tr>\n",
       "  </tbody>\n",
       "</table>\n",
       "<p>5 rows × 27 columns</p>\n",
       "</div>"
      ],
      "text/plain": [
       "     month       state   permit  permit_recheck  handgun  long_gun   other  \\\n",
       "0  2017-09     Alabama  16717.0             0.0   5734.0    6320.0   221.0   \n",
       "1  2017-09      Alaska    209.0             2.0   2320.0    2930.0   219.0   \n",
       "2  2017-09     Arizona   5069.0           382.0  11063.0    7946.0   920.0   \n",
       "3  2017-09    Arkansas   2935.0           632.0   4347.0    6063.0   165.0   \n",
       "4  2017-09  California  57839.0             0.0  37165.0   24581.0  2984.0   \n",
       "\n",
       "   multiple  admin  prepawn_handgun   ...    returned_other  rentals_handgun  \\\n",
       "0       317    0.0             15.0   ...               0.0              0.0   \n",
       "1       160    0.0              5.0   ...               0.0              0.0   \n",
       "2       631    0.0             13.0   ...               0.0              0.0   \n",
       "3       366   51.0             12.0   ...               0.0              0.0   \n",
       "4         0    0.0              0.0   ...               0.0              0.0   \n",
       "\n",
       "   rentals_long_gun  private_sale_handgun  private_sale_long_gun  \\\n",
       "0               0.0                   9.0                   16.0   \n",
       "1               0.0                  17.0                   24.0   \n",
       "2               0.0                  38.0                   12.0   \n",
       "3               0.0                  13.0                   23.0   \n",
       "4               0.0                   0.0                    0.0   \n",
       "\n",
       "   private_sale_other  return_to_seller_handgun  return_to_seller_long_gun  \\\n",
       "0                 3.0                       0.0                        0.0   \n",
       "1                 1.0                       0.0                        0.0   \n",
       "2                 2.0                       0.0                        0.0   \n",
       "3                 0.0                       0.0                        2.0   \n",
       "4                 0.0                       0.0                        0.0   \n",
       "\n",
       "   return_to_seller_other  totals  \n",
       "0                     3.0   32019  \n",
       "1                     0.0    6303  \n",
       "2                     0.0   28394  \n",
       "3                     1.0   17747  \n",
       "4                     0.0  123506  \n",
       "\n",
       "[5 rows x 27 columns]"
      ]
     },
     "execution_count": 121,
     "metadata": {},
     "output_type": "execute_result"
    }
   ],
   "source": [
    "# let check the first five row of gun data\n",
    "gun_df.head()"
   ]
  },
  {
   "cell_type": "code",
   "execution_count": 122,
   "metadata": {},
   "outputs": [
    {
     "name": "stdout",
     "output_type": "stream",
     "text": [
      "<class 'pandas.core.frame.DataFrame'>\n",
      "RangeIndex: 12485 entries, 0 to 12484\n",
      "Data columns (total 27 columns):\n",
      "month                        12485 non-null object\n",
      "state                        12485 non-null object\n",
      "permit                       12461 non-null float64\n",
      "permit_recheck               1100 non-null float64\n",
      "handgun                      12465 non-null float64\n",
      "long_gun                     12466 non-null float64\n",
      "other                        5500 non-null float64\n",
      "multiple                     12485 non-null int64\n",
      "admin                        12462 non-null float64\n",
      "prepawn_handgun              10542 non-null float64\n",
      "prepawn_long_gun             10540 non-null float64\n",
      "prepawn_other                5115 non-null float64\n",
      "redemption_handgun           10545 non-null float64\n",
      "redemption_long_gun          10544 non-null float64\n",
      "redemption_other             5115 non-null float64\n",
      "returned_handgun             2200 non-null float64\n",
      "returned_long_gun            2145 non-null float64\n",
      "returned_other               1815 non-null float64\n",
      "rentals_handgun              990 non-null float64\n",
      "rentals_long_gun             825 non-null float64\n",
      "private_sale_handgun         2750 non-null float64\n",
      "private_sale_long_gun        2750 non-null float64\n",
      "private_sale_other           2750 non-null float64\n",
      "return_to_seller_handgun     2475 non-null float64\n",
      "return_to_seller_long_gun    2750 non-null float64\n",
      "return_to_seller_other       2255 non-null float64\n",
      "totals                       12485 non-null int64\n",
      "dtypes: float64(23), int64(2), object(2)\n",
      "memory usage: 2.6+ MB\n"
     ]
    }
   ],
   "source": [
    "# let check the gun data infoormation\n",
    "gun_df.info()"
   ]
  },
  {
   "cell_type": "code",
   "execution_count": 123,
   "metadata": {},
   "outputs": [
    {
     "data": {
      "text/plain": [
       "array(['Alabama', 'Alaska', 'Arizona', 'Arkansas', 'California',\n",
       "       'Colorado', 'Connecticut', 'Delaware', 'District of Columbia',\n",
       "       'Florida', 'Georgia', 'Guam', 'Hawaii', 'Idaho', 'Illinois',\n",
       "       'Indiana', 'Iowa', 'Kansas', 'Kentucky', 'Louisiana', 'Maine',\n",
       "       'Mariana Islands', 'Maryland', 'Massachusetts', 'Michigan',\n",
       "       'Minnesota', 'Mississippi', 'Missouri', 'Montana', 'Nebraska',\n",
       "       'Nevada', 'New Hampshire', 'New Jersey', 'New Mexico', 'New York',\n",
       "       'North Carolina', 'North Dakota', 'Ohio', 'Oklahoma', 'Oregon',\n",
       "       'Pennsylvania', 'Puerto Rico', 'Rhode Island', 'South Carolina',\n",
       "       'South Dakota', 'Tennessee', 'Texas', 'Utah', 'Vermont',\n",
       "       'Virgin Islands', 'Virginia', 'Washington', 'West Virginia',\n",
       "       'Wisconsin', 'Wyoming'], dtype=object)"
      ]
     },
     "execution_count": 123,
     "metadata": {},
     "output_type": "execute_result"
    }
   ],
   "source": [
    "# let check the No. of unique state in gun data, so that i can compare it with census data\n",
    "gun_df[\"state\"].unique()"
   ]
  },
  {
   "cell_type": "code",
   "execution_count": 124,
   "metadata": {},
   "outputs": [
    {
     "data": {
      "text/plain": [
       "array(['Alabama', 'Alaska', 'Arizona', 'Arkansas', 'California',\n",
       "       'Colorado', 'Connecticut', 'Delaware', 'Florida', 'Georgia',\n",
       "       'Hawaii', 'Idaho', 'Illinois', 'Indiana', 'Iowa', 'Kansas',\n",
       "       'Kentucky', 'Louisiana', 'Maine', 'Maryland', 'Massachusetts',\n",
       "       'Michigan', 'Minnesota', 'Mississippi', 'Missouri', 'Montana',\n",
       "       'Nebraska', 'Nevada', 'New Hampshire', 'New Jersey', 'New Mexico',\n",
       "       'New York', 'North Carolina', 'North Dakota', 'Ohio', 'Oklahoma',\n",
       "       'Oregon', 'Pennsylvania', 'Rhode Island', 'South Carolina',\n",
       "       'South Dakota', 'Tennessee', 'Texas', 'Utah', 'Vermont', 'Virginia',\n",
       "       'Washington', 'West Virginia', 'Wisconsin', 'Wyoming'], dtype=object)"
      ]
     },
     "execution_count": 124,
     "metadata": {},
     "output_type": "execute_result"
    }
   ],
   "source": [
    "# No. of unique state in census data\n",
    "census_clean[\"state\"].unique()"
   ]
  },
  {
   "cell_type": "code",
   "execution_count": 125,
   "metadata": {},
   "outputs": [],
   "source": [
    "remove_state = [\"District of Columbia\",\"Guam\", \"Mariana Islands\",\"Puerto Rico\",\"Virgin Islands\",\"Mariana Islands\"]"
   ]
  },
  {
   "cell_type": "code",
   "execution_count": 126,
   "metadata": {},
   "outputs": [],
   "source": [
    "# remove the unmatch unique state for both census and gun data\n",
    "for c in remove_state:\n",
    "    gun_df.drop(gun_df[gun_df.state == c].index ,inplace = True)"
   ]
  },
  {
   "cell_type": "code",
   "execution_count": 127,
   "metadata": {},
   "outputs": [],
   "source": [
    "# let convert month column to datetime\n",
    "#gun_df[\"month\"] = pd.to_datetime(gun_df[\"month\"])"
   ]
  },
  {
   "cell_type": "code",
   "execution_count": 128,
   "metadata": {},
   "outputs": [],
   "source": [
    "# change the month column to year\n",
    "gun_df = gun_df.rename({\"month\":\"year\"}, axis=1)"
   ]
  },
  {
   "cell_type": "code",
   "execution_count": 129,
   "metadata": {},
   "outputs": [
    {
     "data": {
      "text/plain": [
       "Index(['year', 'state', 'permit', 'permit_recheck', 'handgun', 'long_gun',\n",
       "       'other', 'multiple', 'admin', 'prepawn_handgun', 'prepawn_long_gun',\n",
       "       'prepawn_other', 'redemption_handgun', 'redemption_long_gun',\n",
       "       'redemption_other', 'returned_handgun', 'returned_long_gun',\n",
       "       'returned_other', 'rentals_handgun', 'rentals_long_gun',\n",
       "       'private_sale_handgun', 'private_sale_long_gun', 'private_sale_other',\n",
       "       'return_to_seller_handgun', 'return_to_seller_long_gun',\n",
       "       'return_to_seller_other', 'totals'],\n",
       "      dtype='object')"
      ]
     },
     "execution_count": 129,
     "metadata": {},
     "output_type": "execute_result"
    }
   ],
   "source": [
    "gun_df.columns"
   ]
  },
  {
   "cell_type": "code",
   "execution_count": 130,
   "metadata": {},
   "outputs": [],
   "source": [
    "# Droping the least important features regarded to my target questions\n",
    "gun_clean = gun_df.drop(columns=['permit_recheck','admin', 'prepawn_handgun', 'prepawn_long_gun',\n",
    "       'prepawn_other', 'redemption_handgun', 'redemption_long_gun',\n",
    "       'redemption_other', 'returned_handgun', 'returned_long_gun',\n",
    "       'returned_other', 'rentals_handgun', 'rentals_long_gun',\n",
    "       'private_sale_handgun', 'private_sale_long_gun', 'private_sale_other',\n",
    "       'return_to_seller_handgun', 'return_to_seller_long_gun',\n",
    "       'return_to_seller_other'])"
   ]
  },
  {
   "cell_type": "code",
   "execution_count": 131,
   "metadata": {},
   "outputs": [],
   "source": [
    "# fill NaN value with 0\n",
    "def my_function(data):\n",
    "    my_df = data.copy()\n",
    "    my_df = data.fillna(0)\n",
    "    return my_df"
   ]
  },
  {
   "cell_type": "code",
   "execution_count": 132,
   "metadata": {},
   "outputs": [],
   "source": [
    "gun_clean = my_function(gun_clean)"
   ]
  },
  {
   "cell_type": "code",
   "execution_count": 133,
   "metadata": {},
   "outputs": [
    {
     "name": "stdout",
     "output_type": "stream",
     "text": [
      "<class 'pandas.core.frame.DataFrame'>\n",
      "Int64Index: 11350 entries, 0 to 12484\n",
      "Data columns (total 8 columns):\n",
      "year        11350 non-null object\n",
      "state       11350 non-null object\n",
      "permit      11350 non-null float64\n",
      "handgun     11350 non-null float64\n",
      "long_gun    11350 non-null float64\n",
      "other       11350 non-null float64\n",
      "multiple    11350 non-null int64\n",
      "totals      11350 non-null int64\n",
      "dtypes: float64(4), int64(2), object(2)\n",
      "memory usage: 798.0+ KB\n"
     ]
    }
   ],
   "source": [
    "gun_clean.info()"
   ]
  },
  {
   "cell_type": "code",
   "execution_count": 134,
   "metadata": {},
   "outputs": [
    {
     "data": {
      "text/html": [
       "<div>\n",
       "<style scoped>\n",
       "    .dataframe tbody tr th:only-of-type {\n",
       "        vertical-align: middle;\n",
       "    }\n",
       "\n",
       "    .dataframe tbody tr th {\n",
       "        vertical-align: top;\n",
       "    }\n",
       "\n",
       "    .dataframe thead th {\n",
       "        text-align: right;\n",
       "    }\n",
       "</style>\n",
       "<table border=\"1\" class=\"dataframe\">\n",
       "  <thead>\n",
       "    <tr style=\"text-align: right;\">\n",
       "      <th></th>\n",
       "      <th>year</th>\n",
       "      <th>state</th>\n",
       "      <th>permit</th>\n",
       "      <th>handgun</th>\n",
       "      <th>long_gun</th>\n",
       "      <th>other</th>\n",
       "      <th>multiple</th>\n",
       "      <th>totals</th>\n",
       "    </tr>\n",
       "  </thead>\n",
       "  <tbody>\n",
       "    <tr>\n",
       "      <th>0</th>\n",
       "      <td>2017-09</td>\n",
       "      <td>Alabama</td>\n",
       "      <td>16717.0</td>\n",
       "      <td>5734.0</td>\n",
       "      <td>6320.0</td>\n",
       "      <td>221.0</td>\n",
       "      <td>317</td>\n",
       "      <td>32019</td>\n",
       "    </tr>\n",
       "    <tr>\n",
       "      <th>1</th>\n",
       "      <td>2017-09</td>\n",
       "      <td>Alaska</td>\n",
       "      <td>209.0</td>\n",
       "      <td>2320.0</td>\n",
       "      <td>2930.0</td>\n",
       "      <td>219.0</td>\n",
       "      <td>160</td>\n",
       "      <td>6303</td>\n",
       "    </tr>\n",
       "    <tr>\n",
       "      <th>2</th>\n",
       "      <td>2017-09</td>\n",
       "      <td>Arizona</td>\n",
       "      <td>5069.0</td>\n",
       "      <td>11063.0</td>\n",
       "      <td>7946.0</td>\n",
       "      <td>920.0</td>\n",
       "      <td>631</td>\n",
       "      <td>28394</td>\n",
       "    </tr>\n",
       "    <tr>\n",
       "      <th>3</th>\n",
       "      <td>2017-09</td>\n",
       "      <td>Arkansas</td>\n",
       "      <td>2935.0</td>\n",
       "      <td>4347.0</td>\n",
       "      <td>6063.0</td>\n",
       "      <td>165.0</td>\n",
       "      <td>366</td>\n",
       "      <td>17747</td>\n",
       "    </tr>\n",
       "    <tr>\n",
       "      <th>4</th>\n",
       "      <td>2017-09</td>\n",
       "      <td>California</td>\n",
       "      <td>57839.0</td>\n",
       "      <td>37165.0</td>\n",
       "      <td>24581.0</td>\n",
       "      <td>2984.0</td>\n",
       "      <td>0</td>\n",
       "      <td>123506</td>\n",
       "    </tr>\n",
       "  </tbody>\n",
       "</table>\n",
       "</div>"
      ],
      "text/plain": [
       "      year       state   permit  handgun  long_gun   other  multiple  totals\n",
       "0  2017-09     Alabama  16717.0   5734.0    6320.0   221.0       317   32019\n",
       "1  2017-09      Alaska    209.0   2320.0    2930.0   219.0       160    6303\n",
       "2  2017-09     Arizona   5069.0  11063.0    7946.0   920.0       631   28394\n",
       "3  2017-09    Arkansas   2935.0   4347.0    6063.0   165.0       366   17747\n",
       "4  2017-09  California  57839.0  37165.0   24581.0  2984.0         0  123506"
      ]
     },
     "execution_count": 134,
     "metadata": {},
     "output_type": "execute_result"
    }
   ],
   "source": [
    "gun_clean.head()"
   ]
  },
  {
   "cell_type": "markdown",
   "metadata": {},
   "source": [
    "# Exploratory Data Analysis"
   ]
  },
  {
   "cell_type": "code",
   "execution_count": 135,
   "metadata": {},
   "outputs": [
    {
     "data": {
      "text/html": [
       "<div>\n",
       "<style scoped>\n",
       "    .dataframe tbody tr th:only-of-type {\n",
       "        vertical-align: middle;\n",
       "    }\n",
       "\n",
       "    .dataframe tbody tr th {\n",
       "        vertical-align: top;\n",
       "    }\n",
       "\n",
       "    .dataframe thead th {\n",
       "        text-align: right;\n",
       "    }\n",
       "</style>\n",
       "<table border=\"1\" class=\"dataframe\">\n",
       "  <thead>\n",
       "    <tr style=\"text-align: right;\">\n",
       "      <th></th>\n",
       "      <th>permit</th>\n",
       "      <th>handgun</th>\n",
       "      <th>long_gun</th>\n",
       "      <th>other</th>\n",
       "      <th>multiple</th>\n",
       "      <th>totals</th>\n",
       "    </tr>\n",
       "  </thead>\n",
       "  <tbody>\n",
       "    <tr>\n",
       "      <th>count</th>\n",
       "      <td>11350.000000</td>\n",
       "      <td>11350.000000</td>\n",
       "      <td>11350.000000</td>\n",
       "      <td>11350.000000</td>\n",
       "      <td>11350.000000</td>\n",
       "      <td>11350.000000</td>\n",
       "    </tr>\n",
       "    <tr>\n",
       "      <th>mean</th>\n",
       "      <td>7040.389515</td>\n",
       "      <td>6509.303877</td>\n",
       "      <td>8575.439648</td>\n",
       "      <td>174.472423</td>\n",
       "      <td>295.059471</td>\n",
       "      <td>23734.978502</td>\n",
       "    </tr>\n",
       "    <tr>\n",
       "      <th>std</th>\n",
       "      <td>24799.120415</td>\n",
       "      <td>8829.284061</td>\n",
       "      <td>9416.217660</td>\n",
       "      <td>956.508452</td>\n",
       "      <td>816.710594</td>\n",
       "      <td>33437.577310</td>\n",
       "    </tr>\n",
       "    <tr>\n",
       "      <th>min</th>\n",
       "      <td>0.000000</td>\n",
       "      <td>0.000000</td>\n",
       "      <td>0.000000</td>\n",
       "      <td>0.000000</td>\n",
       "      <td>0.000000</td>\n",
       "      <td>6.000000</td>\n",
       "    </tr>\n",
       "    <tr>\n",
       "      <th>25%</th>\n",
       "      <td>0.000000</td>\n",
       "      <td>1327.250000</td>\n",
       "      <td>2778.000000</td>\n",
       "      <td>0.000000</td>\n",
       "      <td>41.000000</td>\n",
       "      <td>6472.000000</td>\n",
       "    </tr>\n",
       "    <tr>\n",
       "      <th>50%</th>\n",
       "      <td>813.500000</td>\n",
       "      <td>3622.500000</td>\n",
       "      <td>5893.000000</td>\n",
       "      <td>0.000000</td>\n",
       "      <td>151.000000</td>\n",
       "      <td>14050.000000</td>\n",
       "    </tr>\n",
       "    <tr>\n",
       "      <th>75%</th>\n",
       "      <td>5136.750000</td>\n",
       "      <td>7987.750000</td>\n",
       "      <td>11021.500000</td>\n",
       "      <td>113.000000</td>\n",
       "      <td>328.750000</td>\n",
       "      <td>27537.000000</td>\n",
       "    </tr>\n",
       "    <tr>\n",
       "      <th>max</th>\n",
       "      <td>522188.000000</td>\n",
       "      <td>107224.000000</td>\n",
       "      <td>108058.000000</td>\n",
       "      <td>77929.000000</td>\n",
       "      <td>38907.000000</td>\n",
       "      <td>541978.000000</td>\n",
       "    </tr>\n",
       "  </tbody>\n",
       "</table>\n",
       "</div>"
      ],
      "text/plain": [
       "              permit        handgun       long_gun         other  \\\n",
       "count   11350.000000   11350.000000   11350.000000  11350.000000   \n",
       "mean     7040.389515    6509.303877    8575.439648    174.472423   \n",
       "std     24799.120415    8829.284061    9416.217660    956.508452   \n",
       "min         0.000000       0.000000       0.000000      0.000000   \n",
       "25%         0.000000    1327.250000    2778.000000      0.000000   \n",
       "50%       813.500000    3622.500000    5893.000000      0.000000   \n",
       "75%      5136.750000    7987.750000   11021.500000    113.000000   \n",
       "max    522188.000000  107224.000000  108058.000000  77929.000000   \n",
       "\n",
       "           multiple         totals  \n",
       "count  11350.000000   11350.000000  \n",
       "mean     295.059471   23734.978502  \n",
       "std      816.710594   33437.577310  \n",
       "min        0.000000       6.000000  \n",
       "25%       41.000000    6472.000000  \n",
       "50%      151.000000   14050.000000  \n",
       "75%      328.750000   27537.000000  \n",
       "max    38907.000000  541978.000000  "
      ]
     },
     "execution_count": 135,
     "metadata": {},
     "output_type": "execute_result"
    }
   ],
   "source": [
    "# statistics summary\n",
    "gun_clean.describe()"
   ]
  },
  {
   "cell_type": "code",
   "execution_count": 136,
   "metadata": {},
   "outputs": [
    {
     "data": {
      "image/png": "[encoded data removed]",
      "text/plain": [
       "<matplotlib.figure.Figure at 0x7f3009de22e8>"
      ]
     },
     "metadata": {
      "needs_background": "light"
     },
     "output_type": "display_data"
    }
   ],
   "source": [
    "# let check the distrobution of gun_data\n",
    "gun_clean.hist(figsize=(12,8));"
   ]
  },
  {
   "cell_type": "markdown",
   "metadata": {},
   "source": [
    "**Base on the above graph it clearly show that majority of the registred gun in a month does not exceed 100,000**"
   ]
  },
  {
   "cell_type": "markdown",
   "metadata": {},
   "source": [
    "# What is the trend of total guns registeration and Purchased over times?"
   ]
  },
  {
   "cell_type": "code",
   "execution_count": 137,
   "metadata": {},
   "outputs": [],
   "source": [
    "# let split the the year from the months \n",
    "gun_clean[\"Year\"] = gun_clean['year'].apply(lambda x: int(x.split('-')[0]) )"
   ]
  },
  {
   "cell_type": "code",
   "execution_count": 138,
   "metadata": {},
   "outputs": [],
   "source": [
    "# let query the Year and total of registred gun\n",
    "tren_data = gun_clean[[\"Year\",\"totals\"]]"
   ]
  },
  {
   "cell_type": "code",
   "execution_count": 139,
   "metadata": {},
   "outputs": [],
   "source": [
    "# select the purchases guns\n",
    "purc_gun = gun_clean.drop(columns=[\"state\",\"totals\",\"permit\",\"year\"])"
   ]
  },
  {
   "cell_type": "code",
   "execution_count": 140,
   "metadata": {},
   "outputs": [],
   "source": [
    "# list of purchaese guns\n",
    "purc_list = [\"handgun\",\"long_gun\",\"other\",\"multiple\"]"
   ]
  },
  {
   "cell_type": "code",
   "execution_count": 141,
   "metadata": {},
   "outputs": [],
   "source": [
    "# create new column that contain the overal total of purchaese guns\n",
    "purc_gun[\"total\"] = purc_gun[purc_list].sum(axis=1)"
   ]
  },
  {
   "cell_type": "code",
   "execution_count": 142,
   "metadata": {},
   "outputs": [],
   "source": [
    "purc_gun_trend = purc_gun[[\"Year\",\"total\"]]"
   ]
  },
  {
   "cell_type": "code",
   "execution_count": 143,
   "metadata": {},
   "outputs": [
    {
     "data": {
      "text/html": [
       "<div>\n",
       "<style scoped>\n",
       "    .dataframe tbody tr th:only-of-type {\n",
       "        vertical-align: middle;\n",
       "    }\n",
       "\n",
       "    .dataframe tbody tr th {\n",
       "        vertical-align: top;\n",
       "    }\n",
       "\n",
       "    .dataframe thead th {\n",
       "        text-align: right;\n",
       "    }\n",
       "</style>\n",
       "<table border=\"1\" class=\"dataframe\">\n",
       "  <thead>\n",
       "    <tr style=\"text-align: right;\">\n",
       "      <th></th>\n",
       "      <th>Year</th>\n",
       "      <th>totals</th>\n",
       "    </tr>\n",
       "  </thead>\n",
       "  <tbody>\n",
       "    <tr>\n",
       "      <th>0</th>\n",
       "      <td>2017</td>\n",
       "      <td>32019</td>\n",
       "    </tr>\n",
       "    <tr>\n",
       "      <th>1</th>\n",
       "      <td>2017</td>\n",
       "      <td>6303</td>\n",
       "    </tr>\n",
       "    <tr>\n",
       "      <th>2</th>\n",
       "      <td>2017</td>\n",
       "      <td>28394</td>\n",
       "    </tr>\n",
       "    <tr>\n",
       "      <th>3</th>\n",
       "      <td>2017</td>\n",
       "      <td>17747</td>\n",
       "    </tr>\n",
       "    <tr>\n",
       "      <th>4</th>\n",
       "      <td>2017</td>\n",
       "      <td>123506</td>\n",
       "    </tr>\n",
       "  </tbody>\n",
       "</table>\n",
       "</div>"
      ],
      "text/plain": [
       "   Year  totals\n",
       "0  2017   32019\n",
       "1  2017    6303\n",
       "2  2017   28394\n",
       "3  2017   17747\n",
       "4  2017  123506"
      ]
     },
     "execution_count": 143,
     "metadata": {},
     "output_type": "execute_result"
    }
   ],
   "source": [
    "# fisrt five row trend registred gun\n",
    "tren_data.head()"
   ]
  },
  {
   "cell_type": "code",
   "execution_count": 144,
   "metadata": {},
   "outputs": [
    {
     "data": {
      "text/html": [
       "<div>\n",
       "<style scoped>\n",
       "    .dataframe tbody tr th:only-of-type {\n",
       "        vertical-align: middle;\n",
       "    }\n",
       "\n",
       "    .dataframe tbody tr th {\n",
       "        vertical-align: top;\n",
       "    }\n",
       "\n",
       "    .dataframe thead th {\n",
       "        text-align: right;\n",
       "    }\n",
       "</style>\n",
       "<table border=\"1\" class=\"dataframe\">\n",
       "  <thead>\n",
       "    <tr style=\"text-align: right;\">\n",
       "      <th></th>\n",
       "      <th>handgun</th>\n",
       "      <th>long_gun</th>\n",
       "      <th>other</th>\n",
       "      <th>multiple</th>\n",
       "      <th>Year</th>\n",
       "      <th>total</th>\n",
       "    </tr>\n",
       "  </thead>\n",
       "  <tbody>\n",
       "    <tr>\n",
       "      <th>0</th>\n",
       "      <td>5734.0</td>\n",
       "      <td>6320.0</td>\n",
       "      <td>221.0</td>\n",
       "      <td>317</td>\n",
       "      <td>2017</td>\n",
       "      <td>12592.0</td>\n",
       "    </tr>\n",
       "    <tr>\n",
       "      <th>1</th>\n",
       "      <td>2320.0</td>\n",
       "      <td>2930.0</td>\n",
       "      <td>219.0</td>\n",
       "      <td>160</td>\n",
       "      <td>2017</td>\n",
       "      <td>5629.0</td>\n",
       "    </tr>\n",
       "    <tr>\n",
       "      <th>2</th>\n",
       "      <td>11063.0</td>\n",
       "      <td>7946.0</td>\n",
       "      <td>920.0</td>\n",
       "      <td>631</td>\n",
       "      <td>2017</td>\n",
       "      <td>20560.0</td>\n",
       "    </tr>\n",
       "    <tr>\n",
       "      <th>3</th>\n",
       "      <td>4347.0</td>\n",
       "      <td>6063.0</td>\n",
       "      <td>165.0</td>\n",
       "      <td>366</td>\n",
       "      <td>2017</td>\n",
       "      <td>10941.0</td>\n",
       "    </tr>\n",
       "    <tr>\n",
       "      <th>4</th>\n",
       "      <td>37165.0</td>\n",
       "      <td>24581.0</td>\n",
       "      <td>2984.0</td>\n",
       "      <td>0</td>\n",
       "      <td>2017</td>\n",
       "      <td>64730.0</td>\n",
       "    </tr>\n",
       "  </tbody>\n",
       "</table>\n",
       "</div>"
      ],
      "text/plain": [
       "   handgun  long_gun   other  multiple  Year    total\n",
       "0   5734.0    6320.0   221.0       317  2017  12592.0\n",
       "1   2320.0    2930.0   219.0       160  2017   5629.0\n",
       "2  11063.0    7946.0   920.0       631  2017  20560.0\n",
       "3   4347.0    6063.0   165.0       366  2017  10941.0\n",
       "4  37165.0   24581.0  2984.0         0  2017  64730.0"
      ]
     },
     "execution_count": 144,
     "metadata": {},
     "output_type": "execute_result"
    }
   ],
   "source": [
    "# first five row of purchased gun\n",
    "purc_gun.head()"
   ]
  },
  {
   "cell_type": "code",
   "execution_count": 145,
   "metadata": {},
   "outputs": [
    {
     "data": {
      "image/png": "[encoded data removed]",
      "text/plain": [
       "<matplotlib.figure.Figure at 0x7f3009de2358>"
      ]
     },
     "metadata": {
      "needs_background": "light"
     },
     "output_type": "display_data"
    }
   ],
   "source": [
    "plt.figure(figsize=(12,8))\n",
    "plot_1 = tren_data.groupby(\"Year\").totals.agg(\"mean\")\n",
    "plot_2 = purc_gun_trend.groupby(\"Year\").total.agg(\"mean\")\n",
    "plot_1.plot(figsize=(12,8))\n",
    "plot_2.plot(figsize=(12,8))\n",
    "plt.xlabel(\"Year\", fontsize=16)\n",
    "plt.ylabel(\"Mean Number of Registred Gun\", fontsize=16)\n",
    "plt.title(\"Overall trend of total guns registeration  and Purchased over the times\", fontsize=16)\n",
    "plt.xticks(np.arange(1998,2021))\n",
    "plt.grid(color = 'green', linestyle = '--', linewidth = 0.5)\n",
    "plt.legend([\"Gun Registration\", \"Guns purchase\"], loc =\"upper right\");"
   ]
  },
  {
   "cell_type": "markdown",
   "metadata": {},
   "source": [
    "**This graph is clearly show that the number of registred and purchased gun are increasing every year**"
   ]
  },
  {
   "cell_type": "markdown",
   "metadata": {},
   "source": [
    "# Which year has the highest Number of registred Gun"
   ]
  },
  {
   "cell_type": "code",
   "execution_count": 146,
   "metadata": {},
   "outputs": [],
   "source": [
    "# spliting the year from the date\n",
    "gun_clean['Yr']=gun_clean['year'].apply(lambda x: int(x.split('-')[0]) )"
   ]
  },
  {
   "cell_type": "code",
   "execution_count": 147,
   "metadata": {},
   "outputs": [],
   "source": [
    "plot_3 = gun_clean.groupby(gun_clean.Yr).agg({'totals':lambda x: x.mean()})"
   ]
  },
  {
   "cell_type": "code",
   "execution_count": 148,
   "metadata": {},
   "outputs": [],
   "source": [
    "# my def function\n",
    "def my_plot(plot):\n",
    "    plot_3.sort_values(by=\"totals\", ascending=False).plot(kind=\"bar\",figsize=(12,5))\n",
    "    plt.xlabel(\"Year\", fontsize=13)\n",
    "    plt.ylabel(\"Number of Registred Guns\",fontsize=13)\n",
    "    plt.title(\"Graph of Years with Highest Registred Guns\",fontsize=13)\n",
    "    plt.grid(color = 'dimgrey', linestyle = '--', linewidth = 0.5);\n",
    "plt.show()"
   ]
  },
  {
   "cell_type": "code",
   "execution_count": 149,
   "metadata": {},
   "outputs": [
    {
     "data": {
      "image/png": "[encoded data removed]",
      "text/plain": [
       "<matplotlib.figure.Figure at 0x7f3008229198>"
      ]
     },
     "metadata": {
      "needs_background": "light"
     },
     "output_type": "display_data"
    }
   ],
   "source": [
    "my_plot(plot_3)"
   ]
  },
  {
   "cell_type": "markdown",
   "metadata": {},
   "source": [
    "**2016 has the highest number of registred gun**"
   ]
  },
  {
   "cell_type": "markdown",
   "metadata": {},
   "source": [
    "# Months with  the highest Number of registred Gun"
   ]
  },
  {
   "cell_type": "code",
   "execution_count": 150,
   "metadata": {},
   "outputs": [],
   "source": [
    "# spliting months from the year data type\n",
    "gun_clean['month']=gun_clean['year'].apply(lambda x: int(x.split('-')[1]) )\n",
    "gun_clean['month']=gun_clean.month.replace({1:'January',2:'Febuary',3:'March',4:'April',5:'May',6:'June',7:'July',8:'August',9:'September',10:'October',11:'November',12:'December'})"
   ]
  },
  {
   "cell_type": "code",
   "execution_count": 151,
   "metadata": {},
   "outputs": [
    {
     "data": {
      "image/png": "[encoded data removed]",
      "text/plain": [
       "<matplotlib.figure.Figure at 0x7f300c475160>"
      ]
     },
     "metadata": {
      "needs_background": "light"
     },
     "output_type": "display_data"
    }
   ],
   "source": [
    "output = gun_clean.groupby([gun_clean.state,gun_clean.month]).agg({'totals':lambda x: x.mean()})\n",
    "col = ['January','Febuary','March','April','May','June','July','August','September','October','November','December']\n",
    "index = gun_clean.state.unique()\n",
    "index.sort()\n",
    "new_df = pd.DataFrame(columns=col,index=index)\n",
    "for (ind, row) in new_df.iterrows():\n",
    "   \n",
    "   temp = list(output.loc[ind].index)\n",
    "   \n",
    "   for i in col:\n",
    "     if i not in temp:\n",
    "       new_df.loc[ind][i] = 0\n",
    "     else:\n",
    "       new_df.loc[ind][i] = output.loc[ind].loc[i].values[0]\n",
    "   \n",
    "plt.figure(figsize=(12,5))\n",
    "new_df.mean().sort_values(ascending=False).plot(kind=\"bar\")\n",
    "plt.xlabel('months', fontsize=16)\n",
    "plt.ylabel('Number of Registred Gun',fontsize=16)\n",
    "plt.title('Months with highest Number of Registred Gun ',fontsize=16)\n",
    "plt.grid(color = 'dimgrey', linestyle = '--', linewidth = 0.5);"
   ]
  },
  {
   "cell_type": "markdown",
   "metadata": {},
   "source": [
    "**December has the highest number of gun registration**"
   ]
  },
  {
   "cell_type": "code",
   "execution_count": 152,
   "metadata": {},
   "outputs": [
    {
     "data": {
      "text/html": [
       "<div>\n",
       "<style scoped>\n",
       "    .dataframe tbody tr th:only-of-type {\n",
       "        vertical-align: middle;\n",
       "    }\n",
       "\n",
       "    .dataframe tbody tr th {\n",
       "        vertical-align: top;\n",
       "    }\n",
       "\n",
       "    .dataframe thead th {\n",
       "        text-align: right;\n",
       "    }\n",
       "</style>\n",
       "<table border=\"1\" class=\"dataframe\">\n",
       "  <thead>\n",
       "    <tr style=\"text-align: right;\">\n",
       "      <th></th>\n",
       "      <th>January</th>\n",
       "      <th>Febuary</th>\n",
       "      <th>March</th>\n",
       "      <th>April</th>\n",
       "      <th>May</th>\n",
       "      <th>June</th>\n",
       "      <th>July</th>\n",
       "      <th>August</th>\n",
       "      <th>September</th>\n",
       "      <th>October</th>\n",
       "      <th>November</th>\n",
       "      <th>December</th>\n",
       "    </tr>\n",
       "  </thead>\n",
       "  <tbody>\n",
       "    <tr>\n",
       "      <th>Alabama</th>\n",
       "      <td>30414</td>\n",
       "      <td>33860.3</td>\n",
       "      <td>29788.8</td>\n",
       "      <td>22692.8</td>\n",
       "      <td>21547.8</td>\n",
       "      <td>22156.9</td>\n",
       "      <td>23355.1</td>\n",
       "      <td>27123.9</td>\n",
       "      <td>27261.7</td>\n",
       "      <td>29495.9</td>\n",
       "      <td>35710.6</td>\n",
       "      <td>51096.2</td>\n",
       "    </tr>\n",
       "    <tr>\n",
       "      <th>Alaska</th>\n",
       "      <td>3811.89</td>\n",
       "      <td>4436.47</td>\n",
       "      <td>5023.21</td>\n",
       "      <td>5397.05</td>\n",
       "      <td>4696.53</td>\n",
       "      <td>4411.63</td>\n",
       "      <td>4547.11</td>\n",
       "      <td>5460</td>\n",
       "      <td>4912.74</td>\n",
       "      <td>6473.78</td>\n",
       "      <td>4779.89</td>\n",
       "      <td>6266.37</td>\n",
       "    </tr>\n",
       "    <tr>\n",
       "      <th>Arizona</th>\n",
       "      <td>19283.5</td>\n",
       "      <td>22046.9</td>\n",
       "      <td>21685.1</td>\n",
       "      <td>19087.4</td>\n",
       "      <td>17304.7</td>\n",
       "      <td>16924.7</td>\n",
       "      <td>17002.2</td>\n",
       "      <td>18987.2</td>\n",
       "      <td>18515.3</td>\n",
       "      <td>18525.8</td>\n",
       "      <td>18572.7</td>\n",
       "      <td>25971.8</td>\n",
       "    </tr>\n",
       "    <tr>\n",
       "      <th>Arkansas</th>\n",
       "      <td>15473.7</td>\n",
       "      <td>19370.2</td>\n",
       "      <td>16918.1</td>\n",
       "      <td>13513.2</td>\n",
       "      <td>11984.5</td>\n",
       "      <td>12118.8</td>\n",
       "      <td>12567.3</td>\n",
       "      <td>15014.8</td>\n",
       "      <td>16102.3</td>\n",
       "      <td>18676.8</td>\n",
       "      <td>21246.2</td>\n",
       "      <td>25504.2</td>\n",
       "    </tr>\n",
       "    <tr>\n",
       "      <th>California</th>\n",
       "      <td>79836.9</td>\n",
       "      <td>78987.2</td>\n",
       "      <td>92495.8</td>\n",
       "      <td>83495.7</td>\n",
       "      <td>80202.4</td>\n",
       "      <td>78091.9</td>\n",
       "      <td>77339.3</td>\n",
       "      <td>81520.9</td>\n",
       "      <td>78130.5</td>\n",
       "      <td>82524.7</td>\n",
       "      <td>83273.9</td>\n",
       "      <td>109184</td>\n",
       "    </tr>\n",
       "  </tbody>\n",
       "</table>\n",
       "</div>"
      ],
      "text/plain": [
       "            January  Febuary    March    April      May     June     July  \\\n",
       "Alabama       30414  33860.3  29788.8  22692.8  21547.8  22156.9  23355.1   \n",
       "Alaska      3811.89  4436.47  5023.21  5397.05  4696.53  4411.63  4547.11   \n",
       "Arizona     19283.5  22046.9  21685.1  19087.4  17304.7  16924.7  17002.2   \n",
       "Arkansas    15473.7  19370.2  16918.1  13513.2  11984.5  12118.8  12567.3   \n",
       "California  79836.9  78987.2  92495.8  83495.7  80202.4  78091.9  77339.3   \n",
       "\n",
       "             August September  October November December  \n",
       "Alabama     27123.9   27261.7  29495.9  35710.6  51096.2  \n",
       "Alaska         5460   4912.74  6473.78  4779.89  6266.37  \n",
       "Arizona     18987.2   18515.3  18525.8  18572.7  25971.8  \n",
       "Arkansas    15014.8   16102.3  18676.8  21246.2  25504.2  \n",
       "California  81520.9   78130.5  82524.7  83273.9   109184  "
      ]
     },
     "execution_count": 152,
     "metadata": {},
     "output_type": "execute_result"
    }
   ],
   "source": [
    "new_df.head()"
   ]
  },
  {
   "cell_type": "markdown",
   "metadata": {},
   "source": [
    "#  Top 10 State with the highest Number of registred Gun"
   ]
  },
  {
   "cell_type": "code",
   "execution_count": 153,
   "metadata": {},
   "outputs": [
    {
     "data": {
      "text/html": [
       "<div>\n",
       "<style scoped>\n",
       "    .dataframe tbody tr th:only-of-type {\n",
       "        vertical-align: middle;\n",
       "    }\n",
       "\n",
       "    .dataframe tbody tr th {\n",
       "        vertical-align: top;\n",
       "    }\n",
       "\n",
       "    .dataframe thead th {\n",
       "        text-align: right;\n",
       "    }\n",
       "</style>\n",
       "<table border=\"1\" class=\"dataframe\">\n",
       "  <thead>\n",
       "    <tr style=\"text-align: right;\">\n",
       "      <th></th>\n",
       "      <th>totals</th>\n",
       "    </tr>\n",
       "    <tr>\n",
       "      <th>state</th>\n",
       "      <th></th>\n",
       "    </tr>\n",
       "  </thead>\n",
       "  <tbody>\n",
       "    <tr>\n",
       "      <th>Kentucky</th>\n",
       "      <td>131112.044053</td>\n",
       "    </tr>\n",
       "    <tr>\n",
       "      <th>Texas</th>\n",
       "      <td>85617.559471</td>\n",
       "    </tr>\n",
       "    <tr>\n",
       "      <th>California</th>\n",
       "      <td>83762.392070</td>\n",
       "    </tr>\n",
       "    <tr>\n",
       "      <th>Illinois</th>\n",
       "      <td>68156.537445</td>\n",
       "    </tr>\n",
       "    <tr>\n",
       "      <th>Pennsylvania</th>\n",
       "      <td>57858.484581</td>\n",
       "    </tr>\n",
       "    <tr>\n",
       "      <th>Florida</th>\n",
       "      <td>51523.246696</td>\n",
       "    </tr>\n",
       "    <tr>\n",
       "      <th>Ohio</th>\n",
       "      <td>37280.810573</td>\n",
       "    </tr>\n",
       "    <tr>\n",
       "      <th>North Carolina</th>\n",
       "      <td>34262.947137</td>\n",
       "    </tr>\n",
       "    <tr>\n",
       "      <th>Indiana</th>\n",
       "      <td>34084.458150</td>\n",
       "    </tr>\n",
       "    <tr>\n",
       "      <th>Tennessee</th>\n",
       "      <td>32208.339207</td>\n",
       "    </tr>\n",
       "  </tbody>\n",
       "</table>\n",
       "</div>"
      ],
      "text/plain": [
       "                       totals\n",
       "state                        \n",
       "Kentucky        131112.044053\n",
       "Texas            85617.559471\n",
       "California       83762.392070\n",
       "Illinois         68156.537445\n",
       "Pennsylvania     57858.484581\n",
       "Florida          51523.246696\n",
       "Ohio             37280.810573\n",
       "North Carolina   34262.947137\n",
       "Indiana          34084.458150\n",
       "Tennessee        32208.339207"
      ]
     },
     "execution_count": 153,
     "metadata": {},
     "output_type": "execute_result"
    }
   ],
   "source": [
    "plot_4 = gun_clean.groupby(gun_clean.state).agg({'totals':lambda x: x.mean()}).sort_values(by = \"totals\", ascending=False).head(10)\n",
    "plot_4"
   ]
  },
  {
   "cell_type": "code",
   "execution_count": 154,
   "metadata": {},
   "outputs": [
    {
     "data": {
      "image/png": "[encoded data removed]",
      "text/plain": [
       "<matplotlib.figure.Figure at 0x7f30082c1518>"
      ]
     },
     "metadata": {
      "needs_background": "light"
     },
     "output_type": "display_data"
    }
   ],
   "source": [
    "plot_4.plot(kind=\"bar\",color= \"dimgray\",figsize=(10,5))\n",
    "plt.xlabel(\"State\", fontsize=13)\n",
    "plt.ylabel(\"Number of Registred Gun\",fontsize=13)\n",
    "plt.title('Top 10 States with highest Number of Registred Gun ',fontsize=13)\n",
    "plt.grid(color = 'dimgrey', linestyle = '--', linewidth = 0.5);"
   ]
  },
  {
   "cell_type": "markdown",
   "metadata": {},
   "source": [
    "**Kentuckey City has the highest number of gun registration**"
   ]
  },
  {
   "cell_type": "markdown",
   "metadata": {},
   "source": [
    "# Overall purchased type of gun Trend Over the Times"
   ]
  },
  {
   "cell_type": "code",
   "execution_count": 155,
   "metadata": {},
   "outputs": [],
   "source": [
    "gun_type = (gun_clean.groupby(\"Year\")[\"handgun\",\"long_gun\",\"other\",\"multiple\"].agg(\"mean\")).sort_values(by=\"Year\", ascending=False)"
   ]
  },
  {
   "cell_type": "code",
   "execution_count": 156,
   "metadata": {},
   "outputs": [
    {
     "data": {
      "image/png": "[encoded data removed]",
      "text/plain": [
       "<matplotlib.figure.Figure at 0x7f300830d550>"
      ]
     },
     "metadata": {
      "needs_background": "light"
     },
     "output_type": "display_data"
    }
   ],
   "source": [
    "gun_type.plot(figsize=(15,8))\n",
    "plt.xlabel(\"Year\", fontsize=16)\n",
    "plt.ylabel(\"Number of Purchased Gun\", fontsize=13)\n",
    "plt.title(\"The Overal Purchased Guns Trend Over the Year\")\n",
    "plt.xticks(np.arange(1998,2021))\n",
    "plt.grid(color = 'green', linestyle = '--', linewidth = 0.5);"
   ]
  },
  {
   "cell_type": "markdown",
   "metadata": {},
   "source": [
    "**The graph show an increase in purchased handgun and long gun every year, while other and multiple gun show plattered over the years**"
   ]
  },
  {
   "cell_type": "markdown",
   "metadata": {},
   "source": [
    "#  Most purchased Gun Type in the Year between 1997 to 2010"
   ]
  },
  {
   "cell_type": "code",
   "execution_count": 157,
   "metadata": {},
   "outputs": [],
   "source": [
    "# let check the purchased gun below 2010 dataset\n",
    "gun_below_2010 = purc_gun[purc_gun[\"Year\"] <= 2010].reset_index().drop(columns=\"index\")"
   ]
  },
  {
   "cell_type": "code",
   "execution_count": 158,
   "metadata": {},
   "outputs": [
    {
     "data": {
      "text/html": [
       "<div>\n",
       "<style scoped>\n",
       "    .dataframe tbody tr th:only-of-type {\n",
       "        vertical-align: middle;\n",
       "    }\n",
       "\n",
       "    .dataframe tbody tr th {\n",
       "        vertical-align: top;\n",
       "    }\n",
       "\n",
       "    .dataframe thead th {\n",
       "        text-align: right;\n",
       "    }\n",
       "</style>\n",
       "<table border=\"1\" class=\"dataframe\">\n",
       "  <thead>\n",
       "    <tr style=\"text-align: right;\">\n",
       "      <th></th>\n",
       "      <th>handgun</th>\n",
       "      <th>long_gun</th>\n",
       "      <th>other</th>\n",
       "      <th>multiple</th>\n",
       "      <th>Year</th>\n",
       "      <th>total</th>\n",
       "    </tr>\n",
       "  </thead>\n",
       "  <tbody>\n",
       "    <tr>\n",
       "      <th>0</th>\n",
       "      <td>13978.0</td>\n",
       "      <td>24298.0</td>\n",
       "      <td>152.0</td>\n",
       "      <td>569</td>\n",
       "      <td>2010</td>\n",
       "      <td>38997.0</td>\n",
       "    </tr>\n",
       "    <tr>\n",
       "      <th>1</th>\n",
       "      <td>2553.0</td>\n",
       "      <td>3950.0</td>\n",
       "      <td>93.0</td>\n",
       "      <td>146</td>\n",
       "      <td>2010</td>\n",
       "      <td>6742.0</td>\n",
       "    </tr>\n",
       "    <tr>\n",
       "      <th>2</th>\n",
       "      <td>9943.0</td>\n",
       "      <td>9814.0</td>\n",
       "      <td>219.0</td>\n",
       "      <td>431</td>\n",
       "      <td>2010</td>\n",
       "      <td>20407.0</td>\n",
       "    </tr>\n",
       "    <tr>\n",
       "      <th>3</th>\n",
       "      <td>5816.0</td>\n",
       "      <td>12455.0</td>\n",
       "      <td>62.0</td>\n",
       "      <td>257</td>\n",
       "      <td>2010</td>\n",
       "      <td>18590.0</td>\n",
       "    </tr>\n",
       "    <tr>\n",
       "      <th>4</th>\n",
       "      <td>24519.0</td>\n",
       "      <td>32100.0</td>\n",
       "      <td>0.0</td>\n",
       "      <td>0</td>\n",
       "      <td>2010</td>\n",
       "      <td>56619.0</td>\n",
       "    </tr>\n",
       "  </tbody>\n",
       "</table>\n",
       "</div>"
      ],
      "text/plain": [
       "   handgun  long_gun  other  multiple  Year    total\n",
       "0  13978.0   24298.0  152.0       569  2010  38997.0\n",
       "1   2553.0    3950.0   93.0       146  2010   6742.0\n",
       "2   9943.0    9814.0  219.0       431  2010  20407.0\n",
       "3   5816.0   12455.0   62.0       257  2010  18590.0\n",
       "4  24519.0   32100.0    0.0         0  2010  56619.0"
      ]
     },
     "execution_count": 158,
     "metadata": {},
     "output_type": "execute_result"
    }
   ],
   "source": [
    "gun_below_2010.head()"
   ]
  },
  {
   "cell_type": "code",
   "execution_count": 159,
   "metadata": {},
   "outputs": [
    {
     "data": {
      "image/png": "[encoded data removed]",
      "text/plain": [
       "<matplotlib.figure.Figure at 0x7f300c3eea20>"
      ]
     },
     "metadata": {
      "needs_background": "light"
     },
     "output_type": "display_data"
    }
   ],
   "source": [
    "plot_5 = gun_below_2010[[\"handgun\",\"long_gun\",\"other\",\"multiple\"]].mean().sort_values(ascending=False)\n",
    "plot_5.plot(kind=\"bar\", figsize=(8,5),color= \"dimgray\")\n",
    "plt.xlabel(\"Types of Guns Purchased\",fontsize=12)\n",
    "plt.ylabel(\"Number of Registred Guns\",fontsize=12)\n",
    "plt.title(\"Most purchased Gun Type in the Year between 1997 to 2010\",fontsize=12)\n",
    "plt.grid(color = 'dimgrey', linestyle = '--', linewidth = 0.5);"
   ]
  },
  {
   "cell_type": "markdown",
   "metadata": {},
   "source": [
    "**Long gun is the most purchased gun type between 1997 to 2010**"
   ]
  },
  {
   "cell_type": "markdown",
   "metadata": {},
   "source": [
    "# Most Purchased Gun Type in the Year between 2011 to 2017"
   ]
  },
  {
   "cell_type": "code",
   "execution_count": 160,
   "metadata": {},
   "outputs": [],
   "source": [
    "# let check the purchased gun above 2010 dataset\n",
    "gun_above_2010 = purc_gun[purc_gun[\"Year\"] >= 2011].reset_index().drop(columns=\"index\")"
   ]
  },
  {
   "cell_type": "code",
   "execution_count": 161,
   "metadata": {},
   "outputs": [
    {
     "data": {
      "text/html": [
       "<div>\n",
       "<style scoped>\n",
       "    .dataframe tbody tr th:only-of-type {\n",
       "        vertical-align: middle;\n",
       "    }\n",
       "\n",
       "    .dataframe tbody tr th {\n",
       "        vertical-align: top;\n",
       "    }\n",
       "\n",
       "    .dataframe thead th {\n",
       "        text-align: right;\n",
       "    }\n",
       "</style>\n",
       "<table border=\"1\" class=\"dataframe\">\n",
       "  <thead>\n",
       "    <tr style=\"text-align: right;\">\n",
       "      <th></th>\n",
       "      <th>handgun</th>\n",
       "      <th>long_gun</th>\n",
       "      <th>other</th>\n",
       "      <th>multiple</th>\n",
       "      <th>Year</th>\n",
       "      <th>total</th>\n",
       "    </tr>\n",
       "  </thead>\n",
       "  <tbody>\n",
       "    <tr>\n",
       "      <th>0</th>\n",
       "      <td>5734.0</td>\n",
       "      <td>6320.0</td>\n",
       "      <td>221.0</td>\n",
       "      <td>317</td>\n",
       "      <td>2017</td>\n",
       "      <td>12592.0</td>\n",
       "    </tr>\n",
       "    <tr>\n",
       "      <th>1</th>\n",
       "      <td>2320.0</td>\n",
       "      <td>2930.0</td>\n",
       "      <td>219.0</td>\n",
       "      <td>160</td>\n",
       "      <td>2017</td>\n",
       "      <td>5629.0</td>\n",
       "    </tr>\n",
       "    <tr>\n",
       "      <th>2</th>\n",
       "      <td>11063.0</td>\n",
       "      <td>7946.0</td>\n",
       "      <td>920.0</td>\n",
       "      <td>631</td>\n",
       "      <td>2017</td>\n",
       "      <td>20560.0</td>\n",
       "    </tr>\n",
       "    <tr>\n",
       "      <th>3</th>\n",
       "      <td>4347.0</td>\n",
       "      <td>6063.0</td>\n",
       "      <td>165.0</td>\n",
       "      <td>366</td>\n",
       "      <td>2017</td>\n",
       "      <td>10941.0</td>\n",
       "    </tr>\n",
       "    <tr>\n",
       "      <th>4</th>\n",
       "      <td>37165.0</td>\n",
       "      <td>24581.0</td>\n",
       "      <td>2984.0</td>\n",
       "      <td>0</td>\n",
       "      <td>2017</td>\n",
       "      <td>64730.0</td>\n",
       "    </tr>\n",
       "  </tbody>\n",
       "</table>\n",
       "</div>"
      ],
      "text/plain": [
       "   handgun  long_gun   other  multiple  Year    total\n",
       "0   5734.0    6320.0   221.0       317  2017  12592.0\n",
       "1   2320.0    2930.0   219.0       160  2017   5629.0\n",
       "2  11063.0    7946.0   920.0       631  2017  20560.0\n",
       "3   4347.0    6063.0   165.0       366  2017  10941.0\n",
       "4  37165.0   24581.0  2984.0         0  2017  64730.0"
      ]
     },
     "execution_count": 161,
     "metadata": {},
     "output_type": "execute_result"
    }
   ],
   "source": [
    "gun_above_2010.head()"
   ]
  },
  {
   "cell_type": "code",
   "execution_count": 162,
   "metadata": {},
   "outputs": [
    {
     "data": {
      "image/png": "[encoded data removed]",
      "text/plain": [
       "<matplotlib.figure.Figure at 0x7f300c4706a0>"
      ]
     },
     "metadata": {
      "needs_background": "light"
     },
     "output_type": "display_data"
    }
   ],
   "source": [
    "plot_6 = gun_above_2010[[\"handgun\",\"long_gun\",\"other\",\"multiple\"]].mean().sort_values(ascending=False)\n",
    "plot_6.plot(kind=\"bar\", figsize=(8,5))\n",
    "plt.xlabel(\"Types of Guns Purchased\",fontsize=12)\n",
    "plt.ylabel(\"Number of Registred Guns\",fontsize=12)\n",
    "plt.title(\"Most purchased Gun Type in the Year between 2010 to 2017\",fontsize=12)\n",
    "plt.grid(color = 'dimgrey', linestyle = '--', linewidth = 0.5);"
   ]
  },
  {
   "cell_type": "markdown",
   "metadata": {},
   "source": [
    "**Hand gun is the most purchased gun type between 2011 to 2017**"
   ]
  },
  {
   "cell_type": "markdown",
   "metadata": {},
   "source": [
    "# Which state has the highest Hand Gun Rate ?"
   ]
  },
  {
   "cell_type": "code",
   "execution_count": 163,
   "metadata": {},
   "outputs": [],
   "source": [
    "# group the hand gun on each state\n",
    "plot_7 = gun_clean.groupby(\"state\")[\"handgun\"].agg(\"mean\").sort_values(ascending=False)"
   ]
  },
  {
   "cell_type": "code",
   "execution_count": 164,
   "metadata": {},
   "outputs": [],
   "source": [
    "# change the Series to DataFrame\n",
    "hand_gun_rate = pd.DataFrame(plot_7)"
   ]
  },
  {
   "cell_type": "code",
   "execution_count": 165,
   "metadata": {},
   "outputs": [
    {
     "data": {
      "text/html": [
       "<div>\n",
       "<style scoped>\n",
       "    .dataframe tbody tr th:only-of-type {\n",
       "        vertical-align: middle;\n",
       "    }\n",
       "\n",
       "    .dataframe tbody tr th {\n",
       "        vertical-align: top;\n",
       "    }\n",
       "\n",
       "    .dataframe thead th {\n",
       "        text-align: right;\n",
       "    }\n",
       "</style>\n",
       "<table border=\"1\" class=\"dataframe\">\n",
       "  <thead>\n",
       "    <tr style=\"text-align: right;\">\n",
       "      <th></th>\n",
       "      <th>handgun</th>\n",
       "    </tr>\n",
       "    <tr>\n",
       "      <th>state</th>\n",
       "      <th></th>\n",
       "    </tr>\n",
       "  </thead>\n",
       "  <tbody>\n",
       "    <tr>\n",
       "      <th>Texas</th>\n",
       "      <td>28607.189427</td>\n",
       "    </tr>\n",
       "    <tr>\n",
       "      <th>California</th>\n",
       "      <td>26039.118943</td>\n",
       "    </tr>\n",
       "    <tr>\n",
       "      <th>Florida</th>\n",
       "      <td>26035.030837</td>\n",
       "    </tr>\n",
       "    <tr>\n",
       "      <th>Ohio</th>\n",
       "      <td>16702.453744</td>\n",
       "    </tr>\n",
       "    <tr>\n",
       "      <th>Tennessee</th>\n",
       "      <td>13731.295154</td>\n",
       "    </tr>\n",
       "  </tbody>\n",
       "</table>\n",
       "</div>"
      ],
      "text/plain": [
       "                 handgun\n",
       "state                   \n",
       "Texas       28607.189427\n",
       "California  26039.118943\n",
       "Florida     26035.030837\n",
       "Ohio        16702.453744\n",
       "Tennessee   13731.295154"
      ]
     },
     "execution_count": 165,
     "metadata": {},
     "output_type": "execute_result"
    }
   ],
   "source": [
    "hand_gun_rate.head()"
   ]
  },
  {
   "cell_type": "code",
   "execution_count": 166,
   "metadata": {},
   "outputs": [
    {
     "data": {
      "image/png": "[encoded data removed]",
      "text/plain": [
       "<matplotlib.figure.Figure at 0x7f30081ad4e0>"
      ]
     },
     "metadata": {
      "needs_background": "light"
     },
     "output_type": "display_data"
    }
   ],
   "source": [
    "plot_7.plot(kind=\"bar\",figsize=(15,8))\n",
    "plt.xlabel(\"State\",fontsize=13)\n",
    "plt.ylabel(\"Number Of Registred Hand Gun\", fontsize=13)\n",
    "plt.title(\"Rate of Hand Guns in each Sate\",fontsize=13)\n",
    "plt.grid(color = 'dimgrey', linestyle = '--', linewidth = 0.5);"
   ]
  },
  {
   "cell_type": "markdown",
   "metadata": {},
   "source": [
    "**Texas has the highest rate of hand gun compare to other cities**"
   ]
  },
  {
   "cell_type": "markdown",
   "metadata": {},
   "source": [
    "# Which state has the highest Long Gun Rate ?"
   ]
  },
  {
   "cell_type": "code",
   "execution_count": 167,
   "metadata": {},
   "outputs": [],
   "source": [
    "# group the hand long gun on each state\n",
    "plot_8 = gun_clean.groupby(\"state\")[\"long_gun\"].agg(\"mean\").sort_values(ascending=False)"
   ]
  },
  {
   "cell_type": "code",
   "execution_count": 168,
   "metadata": {},
   "outputs": [],
   "source": [
    "# change the Series to DataFrame\n",
    "lon_gun_rate = pd.DataFrame(plot_8)"
   ]
  },
  {
   "cell_type": "code",
   "execution_count": 169,
   "metadata": {},
   "outputs": [
    {
     "data": {
      "text/html": [
       "<div>\n",
       "<style scoped>\n",
       "    .dataframe tbody tr th:only-of-type {\n",
       "        vertical-align: middle;\n",
       "    }\n",
       "\n",
       "    .dataframe tbody tr th {\n",
       "        vertical-align: top;\n",
       "    }\n",
       "\n",
       "    .dataframe thead th {\n",
       "        text-align: right;\n",
       "    }\n",
       "</style>\n",
       "<table border=\"1\" class=\"dataframe\">\n",
       "  <thead>\n",
       "    <tr style=\"text-align: right;\">\n",
       "      <th></th>\n",
       "      <th>long_gun</th>\n",
       "    </tr>\n",
       "    <tr>\n",
       "      <th>state</th>\n",
       "      <th></th>\n",
       "    </tr>\n",
       "  </thead>\n",
       "  <tbody>\n",
       "    <tr>\n",
       "      <th>Pennsylvania</th>\n",
       "      <td>41337.629956</td>\n",
       "    </tr>\n",
       "    <tr>\n",
       "      <th>Texas</th>\n",
       "      <td>33706.590308</td>\n",
       "    </tr>\n",
       "    <tr>\n",
       "      <th>California</th>\n",
       "      <td>26153.171806</td>\n",
       "    </tr>\n",
       "    <tr>\n",
       "      <th>Florida</th>\n",
       "      <td>16868.237885</td>\n",
       "    </tr>\n",
       "    <tr>\n",
       "      <th>Ohio</th>\n",
       "      <td>16063.105727</td>\n",
       "    </tr>\n",
       "  </tbody>\n",
       "</table>\n",
       "</div>"
      ],
      "text/plain": [
       "                  long_gun\n",
       "state                     \n",
       "Pennsylvania  41337.629956\n",
       "Texas         33706.590308\n",
       "California    26153.171806\n",
       "Florida       16868.237885\n",
       "Ohio          16063.105727"
      ]
     },
     "execution_count": 169,
     "metadata": {},
     "output_type": "execute_result"
    }
   ],
   "source": [
    "lon_gun_rate.head()"
   ]
  },
  {
   "cell_type": "code",
   "execution_count": 170,
   "metadata": {},
   "outputs": [
    {
     "data": {
      "image/png": "[encoded data removed]",
      "text/plain": [
       "<matplotlib.figure.Figure at 0x7f3008229240>"
      ]
     },
     "metadata": {
      "needs_background": "light"
     },
     "output_type": "display_data"
    }
   ],
   "source": [
    "plot_8.plot(kind=\"bar\",figsize=(15,8))\n",
    "plt.xlabel(\"State\",fontsize=13)\n",
    "plt.ylabel(\"Number Of Registred Long Gun\", fontsize=13)\n",
    "plt.title(\"Rate of Long Guns in each Sate\",fontsize=13)\n",
    "plt.grid(color = 'dimgrey', linestyle = '--', linewidth = 0.5);"
   ]
  },
  {
   "cell_type": "markdown",
   "metadata": {},
   "source": [
    "**Pennsylvania has the highest long gun rate over the other cities**"
   ]
  },
  {
   "cell_type": "code",
   "execution_count": 171,
   "metadata": {},
   "outputs": [],
   "source": [
    "# let combine the gun and census DataFrame together\n",
    "merge_data  = gun_clean.merge(census_clean, left_on='state', right_on='state', how='inner')\n",
    "merge_data = merge_data.drop(columns=[\"month\",\"year\",\"Year\",\"permit\"], axis=1)"
   ]
  },
  {
   "cell_type": "code",
   "execution_count": 172,
   "metadata": {},
   "outputs": [
    {
     "data": {
      "text/html": [
       "<div>\n",
       "<style scoped>\n",
       "    .dataframe tbody tr th:only-of-type {\n",
       "        vertical-align: middle;\n",
       "    }\n",
       "\n",
       "    .dataframe tbody tr th {\n",
       "        vertical-align: top;\n",
       "    }\n",
       "\n",
       "    .dataframe thead th {\n",
       "        text-align: right;\n",
       "    }\n",
       "</style>\n",
       "<table border=\"1\" class=\"dataframe\">\n",
       "  <thead>\n",
       "    <tr style=\"text-align: right;\">\n",
       "      <th></th>\n",
       "      <th>state</th>\n",
       "      <th>handgun</th>\n",
       "      <th>long_gun</th>\n",
       "      <th>other</th>\n",
       "      <th>multiple</th>\n",
       "      <th>totals</th>\n",
       "      <th>Yr</th>\n",
       "      <th>Population estimates, July 1, 2016,  (V2016)</th>\n",
       "      <th>Population estimates base, April 1, 2010,  (V2016)</th>\n",
       "    </tr>\n",
       "  </thead>\n",
       "  <tbody>\n",
       "    <tr>\n",
       "      <th>0</th>\n",
       "      <td>Alabama</td>\n",
       "      <td>5734.0</td>\n",
       "      <td>6320.0</td>\n",
       "      <td>221.0</td>\n",
       "      <td>317</td>\n",
       "      <td>32019</td>\n",
       "      <td>2017</td>\n",
       "      <td>4863300.0</td>\n",
       "      <td>4780131.0</td>\n",
       "    </tr>\n",
       "    <tr>\n",
       "      <th>1</th>\n",
       "      <td>Alabama</td>\n",
       "      <td>6289.0</td>\n",
       "      <td>6045.0</td>\n",
       "      <td>216.0</td>\n",
       "      <td>311</td>\n",
       "      <td>35038</td>\n",
       "      <td>2017</td>\n",
       "      <td>4863300.0</td>\n",
       "      <td>4780131.0</td>\n",
       "    </tr>\n",
       "    <tr>\n",
       "      <th>2</th>\n",
       "      <td>Alabama</td>\n",
       "      <td>6046.0</td>\n",
       "      <td>4790.0</td>\n",
       "      <td>224.0</td>\n",
       "      <td>258</td>\n",
       "      <td>31474</td>\n",
       "      <td>2017</td>\n",
       "      <td>4863300.0</td>\n",
       "      <td>4780131.0</td>\n",
       "    </tr>\n",
       "    <tr>\n",
       "      <th>3</th>\n",
       "      <td>Alabama</td>\n",
       "      <td>8275.0</td>\n",
       "      <td>4782.0</td>\n",
       "      <td>254.0</td>\n",
       "      <td>334</td>\n",
       "      <td>35687</td>\n",
       "      <td>2017</td>\n",
       "      <td>4863300.0</td>\n",
       "      <td>4780131.0</td>\n",
       "    </tr>\n",
       "    <tr>\n",
       "      <th>4</th>\n",
       "      <td>Alabama</td>\n",
       "      <td>7198.0</td>\n",
       "      <td>4559.0</td>\n",
       "      <td>254.0</td>\n",
       "      <td>309</td>\n",
       "      <td>33331</td>\n",
       "      <td>2017</td>\n",
       "      <td>4863300.0</td>\n",
       "      <td>4780131.0</td>\n",
       "    </tr>\n",
       "  </tbody>\n",
       "</table>\n",
       "</div>"
      ],
      "text/plain": [
       "     state  handgun  long_gun  other  multiple  totals    Yr  \\\n",
       "0  Alabama   5734.0    6320.0  221.0       317   32019  2017   \n",
       "1  Alabama   6289.0    6045.0  216.0       311   35038  2017   \n",
       "2  Alabama   6046.0    4790.0  224.0       258   31474  2017   \n",
       "3  Alabama   8275.0    4782.0  254.0       334   35687  2017   \n",
       "4  Alabama   7198.0    4559.0  254.0       309   33331  2017   \n",
       "\n",
       "   Population estimates, July 1, 2016,  (V2016)  \\\n",
       "0                                     4863300.0   \n",
       "1                                     4863300.0   \n",
       "2                                     4863300.0   \n",
       "3                                     4863300.0   \n",
       "4                                     4863300.0   \n",
       "\n",
       "   Population estimates base, April 1, 2010,  (V2016)  \n",
       "0                                          4780131.0   \n",
       "1                                          4780131.0   \n",
       "2                                          4780131.0   \n",
       "3                                          4780131.0   \n",
       "4                                          4780131.0   "
      ]
     },
     "execution_count": 172,
     "metadata": {},
     "output_type": "execute_result"
    }
   ],
   "source": [
    "merge_data.head()"
   ]
  },
  {
   "cell_type": "markdown",
   "metadata": {},
   "source": [
    "# Which census data is most associated with high Gun per capita"
   ]
  },
  {
   "cell_type": "markdown",
   "metadata": {},
   "source": [
    " *let sort the data for 2010 and 2016 first*\n"
   ]
  },
  {
   "cell_type": "code",
   "execution_count": 173,
   "metadata": {},
   "outputs": [],
   "source": [
    "# sorting 2016 dataset\n",
    "pop_2016 = merge_data[merge_data[\"Yr\"]==2016]"
   ]
  },
  {
   "cell_type": "code",
   "execution_count": 174,
   "metadata": {},
   "outputs": [
    {
     "data": {
      "text/html": [
       "<div>\n",
       "<style scoped>\n",
       "    .dataframe tbody tr th:only-of-type {\n",
       "        vertical-align: middle;\n",
       "    }\n",
       "\n",
       "    .dataframe tbody tr th {\n",
       "        vertical-align: top;\n",
       "    }\n",
       "\n",
       "    .dataframe thead th {\n",
       "        text-align: right;\n",
       "    }\n",
       "</style>\n",
       "<table border=\"1\" class=\"dataframe\">\n",
       "  <thead>\n",
       "    <tr style=\"text-align: right;\">\n",
       "      <th></th>\n",
       "      <th>state</th>\n",
       "      <th>handgun</th>\n",
       "      <th>long_gun</th>\n",
       "      <th>other</th>\n",
       "      <th>multiple</th>\n",
       "      <th>totals</th>\n",
       "      <th>Yr</th>\n",
       "      <th>Population estimates, July 1, 2016,  (V2016)</th>\n",
       "      <th>Population estimates base, April 1, 2010,  (V2016)</th>\n",
       "    </tr>\n",
       "  </thead>\n",
       "  <tbody>\n",
       "    <tr>\n",
       "      <th>9</th>\n",
       "      <td>Alabama</td>\n",
       "      <td>13733.0</td>\n",
       "      <td>17519.0</td>\n",
       "      <td>376.0</td>\n",
       "      <td>533</td>\n",
       "      <td>62014</td>\n",
       "      <td>2016</td>\n",
       "      <td>4863300.0</td>\n",
       "      <td>4780131.0</td>\n",
       "    </tr>\n",
       "    <tr>\n",
       "      <th>10</th>\n",
       "      <td>Alabama</td>\n",
       "      <td>10214.0</td>\n",
       "      <td>13470.0</td>\n",
       "      <td>388.0</td>\n",
       "      <td>599</td>\n",
       "      <td>50477</td>\n",
       "      <td>2016</td>\n",
       "      <td>4863300.0</td>\n",
       "      <td>4780131.0</td>\n",
       "    </tr>\n",
       "    <tr>\n",
       "      <th>11</th>\n",
       "      <td>Alabama</td>\n",
       "      <td>7757.0</td>\n",
       "      <td>8865.0</td>\n",
       "      <td>403.0</td>\n",
       "      <td>429</td>\n",
       "      <td>43251</td>\n",
       "      <td>2016</td>\n",
       "      <td>4863300.0</td>\n",
       "      <td>4780131.0</td>\n",
       "    </tr>\n",
       "    <tr>\n",
       "      <th>12</th>\n",
       "      <td>Alabama</td>\n",
       "      <td>7125.0</td>\n",
       "      <td>8449.0</td>\n",
       "      <td>319.0</td>\n",
       "      <td>372</td>\n",
       "      <td>41336</td>\n",
       "      <td>2016</td>\n",
       "      <td>4863300.0</td>\n",
       "      <td>4780131.0</td>\n",
       "    </tr>\n",
       "    <tr>\n",
       "      <th>13</th>\n",
       "      <td>Alabama</td>\n",
       "      <td>8243.0</td>\n",
       "      <td>7808.0</td>\n",
       "      <td>352.0</td>\n",
       "      <td>384</td>\n",
       "      <td>42455</td>\n",
       "      <td>2016</td>\n",
       "      <td>4863300.0</td>\n",
       "      <td>4780131.0</td>\n",
       "    </tr>\n",
       "  </tbody>\n",
       "</table>\n",
       "</div>"
      ],
      "text/plain": [
       "      state  handgun  long_gun  other  multiple  totals    Yr  \\\n",
       "9   Alabama  13733.0   17519.0  376.0       533   62014  2016   \n",
       "10  Alabama  10214.0   13470.0  388.0       599   50477  2016   \n",
       "11  Alabama   7757.0    8865.0  403.0       429   43251  2016   \n",
       "12  Alabama   7125.0    8449.0  319.0       372   41336  2016   \n",
       "13  Alabama   8243.0    7808.0  352.0       384   42455  2016   \n",
       "\n",
       "    Population estimates, July 1, 2016,  (V2016)  \\\n",
       "9                                      4863300.0   \n",
       "10                                     4863300.0   \n",
       "11                                     4863300.0   \n",
       "12                                     4863300.0   \n",
       "13                                     4863300.0   \n",
       "\n",
       "    Population estimates base, April 1, 2010,  (V2016)  \n",
       "9                                           4780131.0   \n",
       "10                                          4780131.0   \n",
       "11                                          4780131.0   \n",
       "12                                          4780131.0   \n",
       "13                                          4780131.0   "
      ]
     },
     "execution_count": 174,
     "metadata": {},
     "output_type": "execute_result"
    }
   ],
   "source": [
    "pop_2016.head()"
   ]
  },
  {
   "cell_type": "code",
   "execution_count": 175,
   "metadata": {},
   "outputs": [],
   "source": [
    "# the proportion of gun per capita associated with 2016 census data\n",
    "prop_p_cap_2016 = pop_2016[\"totals\"].sum()/pop_2016[\"Population estimates, July 1, 2016,  (V2016)\"].sum()"
   ]
  },
  {
   "cell_type": "code",
   "execution_count": 176,
   "metadata": {},
   "outputs": [
    {
     "data": {
      "text/plain": [
       "0.0070827156194480396"
      ]
     },
     "execution_count": 176,
     "metadata": {},
     "output_type": "execute_result"
    }
   ],
   "source": [
    "prop_p_cap_2016"
   ]
  },
  {
   "cell_type": "code",
   "execution_count": 177,
   "metadata": {},
   "outputs": [
    {
     "name": "stdout",
     "output_type": "stream",
     "text": [
      "The percentage of 2016 Gun per capital is 0.708271561944804\n"
     ]
    }
   ],
   "source": [
    "print(\"The percentage of 2016 Gun per capital is {}\".format((prop_p_cap_2016)*100))"
   ]
  },
  {
   "cell_type": "code",
   "execution_count": 178,
   "metadata": {},
   "outputs": [],
   "source": [
    "# sorting 2010 dataset\n",
    "pop_2010 = merge_data[merge_data[\"Yr\"]==2010]"
   ]
  },
  {
   "cell_type": "code",
   "execution_count": 179,
   "metadata": {},
   "outputs": [
    {
     "data": {
      "text/html": [
       "<div>\n",
       "<style scoped>\n",
       "    .dataframe tbody tr th:only-of-type {\n",
       "        vertical-align: middle;\n",
       "    }\n",
       "\n",
       "    .dataframe tbody tr th {\n",
       "        vertical-align: top;\n",
       "    }\n",
       "\n",
       "    .dataframe thead th {\n",
       "        text-align: right;\n",
       "    }\n",
       "</style>\n",
       "<table border=\"1\" class=\"dataframe\">\n",
       "  <thead>\n",
       "    <tr style=\"text-align: right;\">\n",
       "      <th></th>\n",
       "      <th>state</th>\n",
       "      <th>handgun</th>\n",
       "      <th>long_gun</th>\n",
       "      <th>other</th>\n",
       "      <th>multiple</th>\n",
       "      <th>totals</th>\n",
       "      <th>Yr</th>\n",
       "      <th>Population estimates, July 1, 2016,  (V2016)</th>\n",
       "      <th>Population estimates base, April 1, 2010,  (V2016)</th>\n",
       "    </tr>\n",
       "  </thead>\n",
       "  <tbody>\n",
       "    <tr>\n",
       "      <th>81</th>\n",
       "      <td>Alabama</td>\n",
       "      <td>13978.0</td>\n",
       "      <td>24298.0</td>\n",
       "      <td>152.0</td>\n",
       "      <td>569</td>\n",
       "      <td>43266</td>\n",
       "      <td>2010</td>\n",
       "      <td>4863300.0</td>\n",
       "      <td>4780131.0</td>\n",
       "    </tr>\n",
       "    <tr>\n",
       "      <th>82</th>\n",
       "      <td>Alabama</td>\n",
       "      <td>9943.0</td>\n",
       "      <td>17513.0</td>\n",
       "      <td>122.0</td>\n",
       "      <td>487</td>\n",
       "      <td>32668</td>\n",
       "      <td>2010</td>\n",
       "      <td>4863300.0</td>\n",
       "      <td>4780131.0</td>\n",
       "    </tr>\n",
       "    <tr>\n",
       "      <th>83</th>\n",
       "      <td>Alabama</td>\n",
       "      <td>8410.0</td>\n",
       "      <td>12198.0</td>\n",
       "      <td>108.0</td>\n",
       "      <td>433</td>\n",
       "      <td>25403</td>\n",
       "      <td>2010</td>\n",
       "      <td>4863300.0</td>\n",
       "      <td>4780131.0</td>\n",
       "    </tr>\n",
       "    <tr>\n",
       "      <th>84</th>\n",
       "      <td>Alabama</td>\n",
       "      <td>8294.0</td>\n",
       "      <td>10525.0</td>\n",
       "      <td>124.0</td>\n",
       "      <td>415</td>\n",
       "      <td>23344</td>\n",
       "      <td>2010</td>\n",
       "      <td>4863300.0</td>\n",
       "      <td>4780131.0</td>\n",
       "    </tr>\n",
       "    <tr>\n",
       "      <th>85</th>\n",
       "      <td>Alabama</td>\n",
       "      <td>9180.0</td>\n",
       "      <td>10361.0</td>\n",
       "      <td>142.0</td>\n",
       "      <td>457</td>\n",
       "      <td>23813</td>\n",
       "      <td>2010</td>\n",
       "      <td>4863300.0</td>\n",
       "      <td>4780131.0</td>\n",
       "    </tr>\n",
       "  </tbody>\n",
       "</table>\n",
       "</div>"
      ],
      "text/plain": [
       "      state  handgun  long_gun  other  multiple  totals    Yr  \\\n",
       "81  Alabama  13978.0   24298.0  152.0       569   43266  2010   \n",
       "82  Alabama   9943.0   17513.0  122.0       487   32668  2010   \n",
       "83  Alabama   8410.0   12198.0  108.0       433   25403  2010   \n",
       "84  Alabama   8294.0   10525.0  124.0       415   23344  2010   \n",
       "85  Alabama   9180.0   10361.0  142.0       457   23813  2010   \n",
       "\n",
       "    Population estimates, July 1, 2016,  (V2016)  \\\n",
       "81                                     4863300.0   \n",
       "82                                     4863300.0   \n",
       "83                                     4863300.0   \n",
       "84                                     4863300.0   \n",
       "85                                     4863300.0   \n",
       "\n",
       "    Population estimates base, April 1, 2010,  (V2016)  \n",
       "81                                          4780131.0   \n",
       "82                                          4780131.0   \n",
       "83                                          4780131.0   \n",
       "84                                          4780131.0   \n",
       "85                                          4780131.0   "
      ]
     },
     "execution_count": 179,
     "metadata": {},
     "output_type": "execute_result"
    }
   ],
   "source": [
    "pop_2010.head()"
   ]
  },
  {
   "cell_type": "code",
   "execution_count": 180,
   "metadata": {},
   "outputs": [],
   "source": [
    "# the proportion of gun per capita associated with 2010 census data\n",
    "prop_p_cap_2010 = pop_2010[\"totals\"].sum()/pop_2010[\"Population estimates base, April 1, 2010,  (V2016)\"].sum()"
   ]
  },
  {
   "cell_type": "code",
   "execution_count": 181,
   "metadata": {},
   "outputs": [
    {
     "data": {
      "text/plain": [
       "0.0038697689530032137"
      ]
     },
     "execution_count": 181,
     "metadata": {},
     "output_type": "execute_result"
    }
   ],
   "source": [
    "prop_p_cap_2010"
   ]
  },
  {
   "cell_type": "code",
   "execution_count": 182,
   "metadata": {},
   "outputs": [
    {
     "name": "stdout",
     "output_type": "stream",
     "text": [
      "The percentage of 2010 Gun per capital is 0.38697689530032137\n"
     ]
    }
   ],
   "source": [
    "print(\"The percentage of 2010 Gun per capital is {}\".format((prop_p_cap_2010)*100))"
   ]
  },
  {
   "cell_type": "code",
   "execution_count": 183,
   "metadata": {},
   "outputs": [],
   "source": [
    "# let convert proportion per capital in to dictionary\n",
    "proportion = [{\"2010\":0.003698270609114439,\n",
    "             \"20016\":0.00708271561944804}]"
   ]
  },
  {
   "cell_type": "code",
   "execution_count": 184,
   "metadata": {},
   "outputs": [],
   "source": [
    "# let convert our dictionary in to dataframe\n",
    "prop_capital = pd.DataFrame(proportion)"
   ]
  },
  {
   "cell_type": "code",
   "execution_count": 185,
   "metadata": {},
   "outputs": [
    {
     "data": {
      "image/png": "[encoded data removed]",
      "text/plain": [
       "<matplotlib.figure.Figure at 0x7f3009dd6eb8>"
      ]
     },
     "metadata": {
      "needs_background": "light"
     },
     "output_type": "display_data"
    }
   ],
   "source": [
    "prop_capital.T.plot(kind=\"bar\")\n",
    "plt.xlabel(\"Census Data\", fontsize= 13)\n",
    "plt.ylabel(\"Frequency\",fontsize= 13)\n",
    "plt.title(\" Graph of Most Associated  Census Data with high Gun Per Capita\",fontsize= 13);"
   ]
  },
  {
   "cell_type": "code",
   "execution_count": 186,
   "metadata": {},
   "outputs": [
    {
     "data": {
      "image/png": "[encoded data removed]",
      "text/plain": [
       "<matplotlib.figure.Figure at 0x7f3008293dd8>"
      ]
     },
     "metadata": {
      "needs_background": "light"
     },
     "output_type": "display_data"
    }
   ],
   "source": [
    "# let check the relationship between number of registred gun and population census data\n",
    "plt.scatter(y=merge_data[\"totals\"], x = merge_data[\"Population estimates, July 1, 2016,  (V2016)\"])\n",
    "plt.xlabel(\"2016 Population census data\", fontsize=13)\n",
    "plt.ylabel(\"Number of registred Gun\",fontsize=13)\n",
    "plt.title(\"Relationship Between Registred Gun and population Census\", fontsize=13);"
   ]
  },
  {
   "cell_type": "code",
   "execution_count": 187,
   "metadata": {},
   "outputs": [
    {
     "data": {
      "image/png": "[encoded data removed]",
      "text/plain": [
       "<matplotlib.figure.Figure at 0x7f300836b400>"
      ]
     },
     "metadata": {
      "needs_background": "light"
     },
     "output_type": "display_data"
    }
   ],
   "source": [
    "#let check the relationship between number of registred gun and population census data\n",
    "plt.scatter(y=merge_data[\"totals\"], x = merge_data[\"Population estimates base, April 1, 2010,  (V2016)\"])\n",
    "plt.xlabel(\"2010 Population census data\", fontsize=13)\n",
    "plt.ylabel(\"Number of registred Gun\",fontsize=13)\n",
    "plt.title(\"Relationship Between Registred Gun and population Census\", fontsize=13);"
   ]
  },
  {
   "cell_type": "markdown",
   "metadata": {},
   "source": [
    "**there is positive corelation between the number of registred gun and population census**"
   ]
  },
  {
   "cell_type": "markdown",
   "metadata": {},
   "source": [
    "# Conclusions"
   ]
  },
  {
   "cell_type": "markdown",
   "metadata": {},
   "source": [
    "My final conclusions regarding both population census  and gun data, at first stage both of the data share some smilar varialble\n",
    "state and date, Base on the distribution of gun data it clearly show that majority of the gun does not exceed 100,000 registration\n",
    "per month, according to the gun registration trend it is clearly show that Number of gun registration is significantly increasing \n",
    "over times, 2016 has a highest gun registration followed by 2017 and most of the gun are registred during december period, \n",
    "the top 10 cities with the highest number of gun registration are Kentucky,Texas,CaliforniaIllinois,Pennsylvania,Florida,Ohio\n",
    "North Carolina,Indian,Tennesse, Long gun is the most purchased gun type between the year of 1997 to 2010 while Hand gun is most purchased gun\n",
    "type in the year above 2010, 2016 popullation census data is the most associated with high gun per capita with 0.708 percent over the\n",
    "the 2010 population census data with 0.387 percent, finally tthere is positive corelation between the number of registred gun and population census\n",
    "\n",
    "Regarding to my data limitation, i have noticed there is an outlier in kentucky data, moreover Illinois might be an outlier too because it \n",
    "has been registered a high gun registration in the U.S however, Illinois has the strictest gun control in America, finally there is state \n",
    "missing record in the population census data."
   ]
  },
  {
   "cell_type": "code",
   "execution_count": 188,
   "metadata": {},
   "outputs": [
    {
     "data": {
      "text/plain": [
       "255"
      ]
     },
     "execution_count": 188,
     "metadata": {},
     "output_type": "execute_result"
    }
   ],
   "source": [
    "from subprocess import call\n",
    "call(['python', '-m', 'nbconvert', 'Investigate_a_Dataset.ipynb'])"
   ]
  },
  {
   "cell_type": "code",
   "execution_count": null,
   "metadata": {},
   "outputs": [],
   "source": []
  },
  {
   "cell_type": "code",
   "execution_count": null,
   "metadata": {},
   "outputs": [],
   "source": []
  }
 ],
 "metadata": {
  "kernelspec": {
   "display_name": "Python 3",
   "language": "python",
   "name": "python3"
  },
  "language_info": {
   "codemirror_mode": {
    "name": "ipython",
    "version": 3
   },
   "file_extension": ".py",
   "mimetype": "text/x-python",
   "name": "python",
   "nbconvert_exporter": "python",
   "pygments_lexer": "ipython3",
   "version": "3.6.3"
  }
 },
 "nbformat": 4,
 "nbformat_minor": 5
}
